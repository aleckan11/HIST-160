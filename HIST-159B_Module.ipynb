{
 "cells": [
  {
   "cell_type": "markdown",
   "metadata": {},
   "source": [
    "# [HIST 159B] Introduction to Python & Graphing!\n",
    "\n",
    "In this exercise, we will go over how to use Python and Matplotlib to generate graphs!\n",
    "\n",
    "## Table of Contents\n",
    "1 - [Python & Math](#python)<br>\n",
    "2 - [Variables](#var)<br>\n",
    "3 - [Functions & For Loops](#func)<br>\n",
    "4 - [Data Structures](#data)<br>\n",
    "5 - [Graph for Sweden Data](#graph)<br>\n",
    "6 - [Other Graphs](#other)<br>\n",
    "\n",
    "\n",
    "**Importing Dependencies:**\n",
    "\n",
    "*Good point to talk about here: What are Dependencies? Dependencies in Python are packages that adds extra functionality to Python, besides the language itself! For example, package called Scikit-learn allows us to use machine learning and make wicked AI programs!*"
   ]
  },
  {
   "cell_type": "code",
   "execution_count": 4,
   "metadata": {
    "collapsed": true
   },
   "outputs": [],
   "source": [
    "import math\n",
    "import numpy as np\n",
    "import pandas as pd\n",
    "import matplotlib\n",
    "%matplotlib inline\n",
    "import matplotlib.pyplot as plt\n",
    "import pandas as pd\n",
    "\n",
    "import skimage\n",
    "import skimage.io\n",
    "import skimage.filters"
   ]
  },
  {
   "cell_type": "markdown",
   "metadata": {},
   "source": [
    "## Before we begin \n",
    "Please help us better establish the audience that we are reaching by filling out this survey:\n",
    "https://docs.google.com/forms/d/1f7EekVoQYHaFeXpzKUul_ZrxzvXz_Iso5aDOMXNl8ic/edit?usp=sharing"
   ]
  },
  {
   "cell_type": "markdown",
   "metadata": {},
   "source": [
    "----\n",
    "\n",
    "## Section 1: Python - Math  <a id='python'></a>\n",
    "\n",
    "Python is the main programming language we'll use in the lecture. Although this lecture should give you the backbones of how to use Python, please feel free to review one or more of the following materials in your own time to learn more about Python. \n",
    "\n",
    "- **[Python Tutorial](https://docs.python.org/3.5/tutorial/)**: Introduction to Python from the creators of Python\n",
    "- **[Composing Programs Chapter 1](http://composingprograms.com/pages/11-getting-started.html)**: This is more of a introduction to programming with Python, from CS 61A\n",
    "\n",
    "<br>\n",
    "**Mathematical Expressions**\n",
    "\n",
    "In Python, we: \n",
    "- Add by using the '+' sign\n",
    "- Multiply by using the '*' sign\n",
    "- Exponentiate by using the '**' sign\n",
    "- Divide by using '/' sign\n",
    "- Floor Divide by using '//' sign (8 // 3 = 2, 9 // 5 = 1) \n",
    "- Take the remainder / modulus by using the '%' sign"
   ]
  },
  {
   "cell_type": "markdown",
   "metadata": {},
   "source": [
    "*Exercise:* Take the product of three and three to the power of six, and subtract 169."
   ]
  },
  {
   "cell_type": "code",
   "execution_count": 2,
   "metadata": {},
   "outputs": [
    {
     "data": {
      "text/plain": [
       "Ellipsis"
      ]
     },
     "execution_count": 2,
     "metadata": {},
     "output_type": "execute_result"
    }
   ],
   "source": [
    "..."
   ]
  },
  {
   "cell_type": "code",
   "execution_count": 3,
   "metadata": {
    "scrolled": true
   },
   "outputs": [
    {
     "data": {
      "text/plain": [
       "2018"
      ]
     },
     "execution_count": 3,
     "metadata": {},
     "output_type": "execute_result"
    }
   ],
   "source": [
    "# SOLUTION\n",
    "(3 ** 6) * 3 - 169"
   ]
  },
  {
   "cell_type": "markdown",
   "metadata": {},
   "source": [
    "---\n",
    "## Section 2: Variables  <a id='var'></a>\n",
    "A name that is used to denote something or a value is called a variable. In python, variables can be declared and values can be assigned. Here are a few examples of variables and their assignments:"
   ]
  },
  {
   "cell_type": "code",
   "execution_count": 4,
   "metadata": {
    "collapsed": true
   },
   "outputs": [],
   "source": [
    "x = 2\n",
    "y = 3\n",
    "ab = \"Hi!\""
   ]
  },
  {
   "cell_type": "markdown",
   "metadata": {
    "nbgrader": {
     "cell_type": "markdown",
     "checksum": "1daa637fcc4cd5d89a98f1fa7a56d294",
     "grade": false,
     "grade_id": "output-and-printing",
     "locked": false,
     "schema_version": 2,
     "solution": false
    }
   },
   "source": [
    "**Output and Printing**\n",
    "\n",
    "Return and printing are two different things: \n",
    "- Return: A value is not necessarily printed, but it is stored away inside a computer, if we bind it! \n",
    "- Printing: A value pops up on our screen!\n",
    "\n",
    "We print using the **print** function and return a value using the **return** function. \n",
    "\n",
    "Here is a good point for us to take a break, and talk about calling functions. In Python, we have numerous functions, like: \n",
    "- print: print(SOMETHING) will print out the SOMETHING to our screen\n",
    "- sum: sum(VALUES) will sum up a lot of values together\n",
    "- And more!\n",
    "\n",
    "The most beautiful aspect about functions, actually, is that in Python, we can make our own functions, for anything we need to. We will discuss more about this a little later. \n",
    "\n",
    "For now, the most important thing to remember is that, to call a function, we write the function, like \"print\" and put paranthesis after the function like \"print()\". Then, we can put in our *arguments* inside the paranthesis, like \"print('Hi!')\" Arguments are what we call the function with, for example, it is the 'SOMETHING' in our print, or the 'VALUES' in our sum function.\n",
    "\n",
    "*Exercise:* Print the words 'Hello World!'"
   ]
  },
  {
   "cell_type": "code",
   "execution_count": 5,
   "metadata": {},
   "outputs": [
    {
     "data": {
      "text/plain": [
       "Ellipsis"
      ]
     },
     "execution_count": 5,
     "metadata": {},
     "output_type": "execute_result"
    }
   ],
   "source": [
    "..."
   ]
  },
  {
   "cell_type": "code",
   "execution_count": 6,
   "metadata": {},
   "outputs": [
    {
     "name": "stdout",
     "output_type": "stream",
     "text": [
      "Hello World!\n"
     ]
    }
   ],
   "source": [
    "# SOLUTION\n",
    "print('Hello World!')"
   ]
  },
  {
   "cell_type": "markdown",
   "metadata": {},
   "source": [
    "---\n",
    "## Section 3: Functions, For Loops  <a id='func'></a>\n",
    "A function is a block of organized, reusable code that is used to perform a single, related action. \n",
    "\n",
    "There are built in python functions but you can also create your own! If I wanted to print, return, or do a mathematical operation without having to do it manually everytime, I could just create a function and call it!\n",
    "\n",
    "So, how do I create them? We create functions using `def`, with the following structure: \n",
    "\n",
    "`def function_name(arguments):\n",
    "    [function procedures]\n",
    "    return [output]`\n",
    "\n",
    "How do I call them after making them? We first write the function name, then put parenthesis around them, like so: \n",
    "\n",
    "\n",
    "<center>`function_name(arguments)`</center>"
   ]
  },
  {
   "cell_type": "code",
   "execution_count": 7,
   "metadata": {
    "collapsed": true
   },
   "outputs": [],
   "source": [
    "def sum_multiply(a,b,c):\n",
    "    \"\"\" Adds 'a' and 'b * c' \"\"\"\n",
    "    # YOUR CODE HERE\n"
   ]
  },
  {
   "cell_type": "code",
   "execution_count": 8,
   "metadata": {
    "collapsed": true
   },
   "outputs": [],
   "source": [
    "# SOLUTION\n",
    "def sum_multiply(a,b,c):\n",
    "    \"\"\" Adds 'a' and 'b * c' \"\"\"\n",
    "    return a + b * c"
   ]
  },
  {
   "cell_type": "code",
   "execution_count": 9,
   "metadata": {},
   "outputs": [
    {
     "data": {
      "text/plain": [
       "7"
      ]
     },
     "execution_count": 9,
     "metadata": {},
     "output_type": "execute_result"
    }
   ],
   "source": [
    "sum_multiply(1, 2, 3)"
   ]
  },
  {
   "cell_type": "markdown",
   "metadata": {},
   "source": [
    "Something that also comes in very handy is what we call the \"for loops\" which repeats a block of code once for each element in a collection. \n",
    "\n",
    "Say I have a list of [1, 2, 3, 4, 5] and I want to add one to each element. This is **daunting**. But fear not, **for loop** is here to save your day! \n",
    "\n",
    "Let's walk through an example together: "
   ]
  },
  {
   "cell_type": "code",
   "execution_count": 10,
   "metadata": {
    "collapsed": true
   },
   "outputs": [],
   "source": [
    "lst = [1, 2, 3, 4, 5]\n",
    "\n",
    "new_lst = []\n",
    "\n",
    "for elem in lst: \n",
    "    new_elem = elem + 1\n",
    "    new_lst.append(new_elem)"
   ]
  },
  {
   "cell_type": "code",
   "execution_count": 11,
   "metadata": {},
   "outputs": [
    {
     "data": {
      "text/plain": [
       "[2, 3, 4, 5, 6]"
      ]
     },
     "execution_count": 11,
     "metadata": {},
     "output_type": "execute_result"
    }
   ],
   "source": [
    "new_lst"
   ]
  },
  {
   "cell_type": "markdown",
   "metadata": {},
   "source": [
    "--- \n",
    "## Section 4: Data Structures <a id='data'></a>\n",
    "\n",
    "**List:** Lists are primitive data structures that store data in the form of a list. \n",
    "\n",
    "To define a list, equate a variable to `[]` or `list()`. We can index into lists by using `lst[]` or add to the list by calling `.extend()` or `.append()`\n",
    "\n",
    "Here is how to use lists: "
   ]
  },
  {
   "cell_type": "code",
   "execution_count": 12,
   "metadata": {
    "collapsed": true
   },
   "outputs": [],
   "source": [
    "names = ['One', 'Two', 'Three', 'Four', 'Five']"
   ]
  },
  {
   "cell_type": "code",
   "execution_count": 13,
   "metadata": {},
   "outputs": [
    {
     "data": {
      "text/plain": [
       "'One'"
      ]
     },
     "execution_count": 13,
     "metadata": {},
     "output_type": "execute_result"
    }
   ],
   "source": [
    "names[0]"
   ]
  },
  {
   "cell_type": "code",
   "execution_count": 14,
   "metadata": {},
   "outputs": [
    {
     "data": {
      "text/plain": [
       "['Two', 'Three', 'Four']"
      ]
     },
     "execution_count": 14,
     "metadata": {},
     "output_type": "execute_result"
    }
   ],
   "source": [
    "names[1 : 4]"
   ]
  },
  {
   "cell_type": "markdown",
   "metadata": {},
   "source": [
    "**Dictionary:** Dictionaries are more used like a database because here you can index a particular sequence with your user defined string.\n",
    "\n",
    "To define a dictionary, equate a variable to `{}` or `dict()`"
   ]
  },
  {
   "cell_type": "code",
   "execution_count": 15,
   "metadata": {
    "collapsed": true
   },
   "outputs": [],
   "source": [
    "number_dict = {'One' : 1,\n",
    "               'Two' : 2, \n",
    "               'Three' : 3,\n",
    "               'Four' : 4,\n",
    "               'Five' : 5}"
   ]
  },
  {
   "cell_type": "code",
   "execution_count": 16,
   "metadata": {},
   "outputs": [
    {
     "data": {
      "text/plain": [
       "1"
      ]
     },
     "execution_count": 16,
     "metadata": {},
     "output_type": "execute_result"
    }
   ],
   "source": [
    "number_dict['One']"
   ]
  },
  {
   "cell_type": "code",
   "execution_count": 17,
   "metadata": {},
   "outputs": [
    {
     "data": {
      "text/plain": [
       "5"
      ]
     },
     "execution_count": 17,
     "metadata": {},
     "output_type": "execute_result"
    }
   ],
   "source": [
    "number_dict['Five']"
   ]
  },
  {
   "cell_type": "markdown",
   "metadata": {},
   "source": [
    "--- \n",
    "## Section 5: Graph for Sweden Data <a id='graph'></a>"
   ]
  },
  {
   "cell_type": "markdown",
   "metadata": {},
   "source": [
    "![title](birth_death_pic.png)"
   ]
  },
  {
   "cell_type": "markdown",
   "metadata": {},
   "source": [
    "Now, let's get down to business to draw beautiful graphs for, firstly, the Sweden data. We can then move forth to drawing graphs for everything else soon!\n",
    "\n",
    "### Objective:\n",
    "We discussed the demographic transition - high birth and death rates give way to low birth and death rates, a pattern visually depicted above. \n",
    "\n",
    "Our objective is to draw a graph like above, using a Python package called `matplotlib`, given a dataset containing the information. What does it mean for us? We will be able to visually see, instead of seeing numbers, how birth rates and death rates have evolved over time. "
   ]
  },
  {
   "cell_type": "markdown",
   "metadata": {},
   "source": [
    "### Introduction to Graphing in Python\n",
    "Graphing in Python is done using a package called `matplotlib`. \n",
    "\n",
    "`matplotlib` as a few cool features, like below: \n",
    "1. `plt.plot(x, y)` : This will plot out the graph of x and y data. \n",
    "2. `plt.xlabel(name)` : This will give the x-axis a label\n",
    "3. `plt.ylabel(name)` : This will give the y-axis a label\n",
    "4. `plt.title(name)` : This will give the title!\n",
    "5. `plt.show()` : This will allow us to \"see\" what we plotted"
   ]
  },
  {
   "cell_type": "code",
   "execution_count": 6,
   "metadata": {},
   "outputs": [
    {
     "data": {
      "image/png": "[encoded data removed]",
      "text/plain": [
       "<Figure size 432x288 with 1 Axes>"
      ]
     },
     "metadata": {},
     "output_type": "display_data"
    }
   ],
   "source": [
    "plt.plot([1, 2, 3, 4, 5], [1, 4, 9, 16, 25])\n",
    "plt.title(\"Simple Graph!\")\n",
    "plt.xlabel(\"X-Axis\")\n",
    "plt.ylabel(\"Y-Axis\")\n",
    "plt.show()"
   ]
  },
  {
   "cell_type": "markdown",
   "metadata": {},
   "source": [
    "#### 1. Using Pandas to Observe Data\n",
    "\n",
    "Firstly, we load the Sweden data to Pandas Dataframe (https://pandas.pydata.org/pandas-docs/stable/generated/pandas.DataFrame.html)\n",
    "\n",
    "*What does this do?* It takes the data from our Comma-Separated Values - CSV - file (think Excel files), and converts it into a format that Pandas, our primary data manipulation library, can read. "
   ]
  },
  {
   "cell_type": "code",
   "execution_count": 18,
   "metadata": {
    "collapsed": true
   },
   "outputs": [],
   "source": [
    "sweden = pd.read_csv('data/sweden.csv')"
   ]
  },
  {
   "cell_type": "markdown",
   "metadata": {},
   "source": [
    "Now, let us observe the first few data. To do this, we will use `.head()` function"
   ]
  },
  {
   "cell_type": "code",
   "execution_count": 19,
   "metadata": {},
   "outputs": [
    {
     "data": {
      "text/html": [
       "<div>\n",
       "<style scoped>\n",
       "    .dataframe tbody tr th:only-of-type {\n",
       "        vertical-align: middle;\n",
       "    }\n",
       "\n",
       "    .dataframe tbody tr th {\n",
       "        vertical-align: top;\n",
       "    }\n",
       "\n",
       "    .dataframe thead th {\n",
       "        text-align: right;\n",
       "    }\n",
       "</style>\n",
       "<table border=\"1\" class=\"dataframe\">\n",
       "  <thead>\n",
       "    <tr style=\"text-align: right;\">\n",
       "      <th></th>\n",
       "      <th>Year</th>\n",
       "      <th>Population</th>\n",
       "      <th>LiveBirths</th>\n",
       "      <th>Deaths</th>\n",
       "      <th>Immigrations</th>\n",
       "      <th>Emigrations</th>\n",
       "      <th>Marriages</th>\n",
       "      <th>Divorces</th>\n",
       "    </tr>\n",
       "  </thead>\n",
       "  <tbody>\n",
       "    <tr>\n",
       "      <th>0</th>\n",
       "      <td>1749</td>\n",
       "      <td>1,764,724</td>\n",
       "      <td>59,483</td>\n",
       "      <td>49,516</td>\n",
       "      <td>..</td>\n",
       "      <td>..</td>\n",
       "      <td>15,046</td>\n",
       "      <td>..</td>\n",
       "    </tr>\n",
       "    <tr>\n",
       "      <th>1</th>\n",
       "      <td>1750</td>\n",
       "      <td>1,780,678</td>\n",
       "      <td>64,511</td>\n",
       "      <td>47,622</td>\n",
       "      <td>..</td>\n",
       "      <td>..</td>\n",
       "      <td>16,374</td>\n",
       "      <td>..</td>\n",
       "    </tr>\n",
       "    <tr>\n",
       "      <th>2</th>\n",
       "      <td>1751</td>\n",
       "      <td>1,802,132</td>\n",
       "      <td>69,291</td>\n",
       "      <td>46,902</td>\n",
       "      <td>..</td>\n",
       "      <td>..</td>\n",
       "      <td>16,599</td>\n",
       "      <td>..</td>\n",
       "    </tr>\n",
       "    <tr>\n",
       "      <th>3</th>\n",
       "      <td>1752</td>\n",
       "      <td>1,816,703</td>\n",
       "      <td>64,973</td>\n",
       "      <td>49,467</td>\n",
       "      <td>..</td>\n",
       "      <td>..</td>\n",
       "      <td>16,761</td>\n",
       "      <td>..</td>\n",
       "    </tr>\n",
       "    <tr>\n",
       "      <th>4</th>\n",
       "      <td>1753</td>\n",
       "      <td>1,837,869</td>\n",
       "      <td>66,007</td>\n",
       "      <td>43,905</td>\n",
       "      <td>..</td>\n",
       "      <td>..</td>\n",
       "      <td>15,923</td>\n",
       "      <td>..</td>\n",
       "    </tr>\n",
       "  </tbody>\n",
       "</table>\n",
       "</div>"
      ],
      "text/plain": [
       "   Year Population LiveBirths  Deaths Immigrations Emigrations Marriages  \\\n",
       "0  1749  1,764,724     59,483  49,516           ..          ..    15,046   \n",
       "1  1750  1,780,678     64,511  47,622           ..          ..    16,374   \n",
       "2  1751  1,802,132     69,291  46,902           ..          ..    16,599   \n",
       "3  1752  1,816,703     64,973  49,467           ..          ..    16,761   \n",
       "4  1753  1,837,869     66,007  43,905           ..          ..    15,923   \n",
       "\n",
       "  Divorces  \n",
       "0       ..  \n",
       "1       ..  \n",
       "2       ..  \n",
       "3       ..  \n",
       "4       ..  "
      ]
     },
     "execution_count": 19,
     "metadata": {},
     "output_type": "execute_result"
    }
   ],
   "source": [
    "sweden.head()"
   ]
  },
  {
   "cell_type": "markdown",
   "metadata": {},
   "source": [
    "**Interesting!** It looks like we have Year, Population, Live Births, Deaths (and more!) columns. \n",
    "\n",
    "#### 2. Use Matplotlib to Draw *Beautiful* Graphs\n",
    "Our goal is to create a graph that looks at the demographic changes in Sweden. The way we create graphs in Python is to also use a package: `Matplotlib` which creates professional looking graphs! \n",
    "\n",
    "*(There are more packages out there, from Plotly to Seaborn, which also create beautiful graphs. But, the easiest and the most \"core\" tool that data scientists use is Matplotlib, so we will work mostly with that in this session.)*\n",
    "\n",
    "The question, then, is what should we draw a graph of? Should we draw a graph of: \n",
    "1. Population changes by year?\n",
    "2. Percentage population changes by year? \n",
    "3. Absolute population changes by year?\n",
    "\n",
    "We will start off with the easiest - population changes by year - and build our way up. "
   ]
  },
  {
   "cell_type": "markdown",
   "metadata": {},
   "source": [
    "If I tell you to draw a graph on Microsoft Excel, with year and population, what would you do? Our first instinct is to drag the columns, and click on the \"Draw Graph\" button. In Python, we have the power of selecting everything we want. \n",
    "\n",
    "Let's start by selecting what goes on the x-axis and y-axis! We can index into a column by using `[column name]` and then use `.values` to grab all the values of the column"
   ]
  },
  {
   "cell_type": "code",
   "execution_count": 20,
   "metadata": {
    "collapsed": true
   },
   "outputs": [],
   "source": [
    "x_axis = sweden['Year'].values"
   ]
  },
  {
   "cell_type": "code",
   "execution_count": 21,
   "metadata": {
    "collapsed": true
   },
   "outputs": [],
   "source": [
    "y_axis = sweden['Population'].values"
   ]
  },
  {
   "cell_type": "code",
   "execution_count": 22,
   "metadata": {},
   "outputs": [
    {
     "data": {
      "image/png": "[encoded data removed]",
      "text/plain": [
       "<Figure size 432x288 with 1 Axes>"
      ]
     },
     "metadata": {},
     "output_type": "display_data"
    }
   ],
   "source": [
    "plt.plot(x_axis, y_axis)\n",
    "plt.show()"
   ]
  },
  {
   "cell_type": "markdown",
   "metadata": {
    "collapsed": true
   },
   "source": [
    "Oh no! What has happened there? Although our code should create a beautiful graph, it looks like something is not working right. \n",
    "\n",
    "Take a look back to when we called `.head()`. We need **integer** values to create our graph, but taking a cursory look at the data, is this correct? \n",
    "\n",
    "*Hint: It is not!*\n",
    "\n",
    "Let's try to fix this issue then. We can try to re-import the data with some pre-fixes that Pandas has: `df.read_csv(file, thousands=',')`"
   ]
  },
  {
   "cell_type": "code",
   "execution_count": 23,
   "metadata": {
    "collapsed": true
   },
   "outputs": [],
   "source": [
    "sweden = pd.read_csv('data/sweden.csv', thousands=',')"
   ]
  },
  {
   "cell_type": "markdown",
   "metadata": {},
   "source": [
    "We take a look at the data again. Does it look cleaner now? "
   ]
  },
  {
   "cell_type": "code",
   "execution_count": 24,
   "metadata": {},
   "outputs": [
    {
     "data": {
      "text/html": [
       "<div>\n",
       "<style scoped>\n",
       "    .dataframe tbody tr th:only-of-type {\n",
       "        vertical-align: middle;\n",
       "    }\n",
       "\n",
       "    .dataframe tbody tr th {\n",
       "        vertical-align: top;\n",
       "    }\n",
       "\n",
       "    .dataframe thead th {\n",
       "        text-align: right;\n",
       "    }\n",
       "</style>\n",
       "<table border=\"1\" class=\"dataframe\">\n",
       "  <thead>\n",
       "    <tr style=\"text-align: right;\">\n",
       "      <th></th>\n",
       "      <th>Year</th>\n",
       "      <th>Population</th>\n",
       "      <th>LiveBirths</th>\n",
       "      <th>Deaths</th>\n",
       "      <th>Immigrations</th>\n",
       "      <th>Emigrations</th>\n",
       "      <th>Marriages</th>\n",
       "      <th>Divorces</th>\n",
       "    </tr>\n",
       "  </thead>\n",
       "  <tbody>\n",
       "    <tr>\n",
       "      <th>0</th>\n",
       "      <td>1749</td>\n",
       "      <td>1764724</td>\n",
       "      <td>59483</td>\n",
       "      <td>49516</td>\n",
       "      <td>..</td>\n",
       "      <td>..</td>\n",
       "      <td>15046</td>\n",
       "      <td>..</td>\n",
       "    </tr>\n",
       "    <tr>\n",
       "      <th>1</th>\n",
       "      <td>1750</td>\n",
       "      <td>1780678</td>\n",
       "      <td>64511</td>\n",
       "      <td>47622</td>\n",
       "      <td>..</td>\n",
       "      <td>..</td>\n",
       "      <td>16374</td>\n",
       "      <td>..</td>\n",
       "    </tr>\n",
       "    <tr>\n",
       "      <th>2</th>\n",
       "      <td>1751</td>\n",
       "      <td>1802132</td>\n",
       "      <td>69291</td>\n",
       "      <td>46902</td>\n",
       "      <td>..</td>\n",
       "      <td>..</td>\n",
       "      <td>16599</td>\n",
       "      <td>..</td>\n",
       "    </tr>\n",
       "    <tr>\n",
       "      <th>3</th>\n",
       "      <td>1752</td>\n",
       "      <td>1816703</td>\n",
       "      <td>64973</td>\n",
       "      <td>49467</td>\n",
       "      <td>..</td>\n",
       "      <td>..</td>\n",
       "      <td>16761</td>\n",
       "      <td>..</td>\n",
       "    </tr>\n",
       "    <tr>\n",
       "      <th>4</th>\n",
       "      <td>1753</td>\n",
       "      <td>1837869</td>\n",
       "      <td>66007</td>\n",
       "      <td>43905</td>\n",
       "      <td>..</td>\n",
       "      <td>..</td>\n",
       "      <td>15923</td>\n",
       "      <td>..</td>\n",
       "    </tr>\n",
       "  </tbody>\n",
       "</table>\n",
       "</div>"
      ],
      "text/plain": [
       "   Year  Population  LiveBirths  Deaths Immigrations Emigrations  Marriages  \\\n",
       "0  1749     1764724       59483   49516           ..          ..      15046   \n",
       "1  1750     1780678       64511   47622           ..          ..      16374   \n",
       "2  1751     1802132       69291   46902           ..          ..      16599   \n",
       "3  1752     1816703       64973   49467           ..          ..      16761   \n",
       "4  1753     1837869       66007   43905           ..          ..      15923   \n",
       "\n",
       "  Divorces  \n",
       "0       ..  \n",
       "1       ..  \n",
       "2       ..  \n",
       "3       ..  \n",
       "4       ..  "
      ]
     },
     "execution_count": 24,
     "metadata": {},
     "output_type": "execute_result"
    }
   ],
   "source": [
    "sweden.head()"
   ]
  },
  {
   "cell_type": "code",
   "execution_count": 25,
   "metadata": {
    "collapsed": true
   },
   "outputs": [],
   "source": [
    "x_axis = sweden['Year']"
   ]
  },
  {
   "cell_type": "code",
   "execution_count": 26,
   "metadata": {
    "collapsed": true
   },
   "outputs": [],
   "source": [
    "y_axis = sweden['Population']"
   ]
  },
  {
   "cell_type": "code",
   "execution_count": 27,
   "metadata": {},
   "outputs": [
    {
     "data": {
      "image/png": "[encoded data removed]",
      "text/plain": [
       "<Figure size 432x288 with 1 Axes>"
      ]
     },
     "metadata": {},
     "output_type": "display_data"
    }
   ],
   "source": [
    "plt.plot(x_axis, y_axis)\n",
    "plt.xlabel('Year')\n",
    "plt.ylabel('Population')\n",
    "plt.title('Population of Sweden by Year')\n",
    "plt.grid(True)\n",
    "\n",
    "plt.show()"
   ]
  },
  {
   "cell_type": "markdown",
   "metadata": {},
   "source": [
    "We now define new variables to define the birth and death rate per population in Sweden by year. And, why don't we make them a little descriptive too?  "
   ]
  },
  {
   "cell_type": "code",
   "execution_count": 28,
   "metadata": {
    "collapsed": true
   },
   "outputs": [],
   "source": [
    "birth_per_pop = 1000 * sweden['LiveBirths'] / y_axis\n",
    "death_per_pop = 1000 * sweden['Deaths'] / y_axis"
   ]
  },
  {
   "cell_type": "code",
   "execution_count": 29,
   "metadata": {},
   "outputs": [
    {
     "data": {
      "image/png": "[encoded data removed]",
      "text/plain": [
       "<Figure size 432x288 with 1 Axes>"
      ]
     },
     "metadata": {},
     "output_type": "display_data"
    }
   ],
   "source": [
    "# Go bears for gold and blue!\n",
    "plt.plot(x_axis, birth_per_pop, color='gold')\n",
    "plt.plot(x_axis, death_per_pop, color='blue')\n",
    "plt.xlabel('Year')\n",
    "plt.ylabel('Birth/Death Rate')\n",
    "plt.title('Birth/Death Rate of Sweden by Year')\n",
    "plt.grid(True)\n",
    "\n",
    "plt.show()"
   ]
  },
  {
   "cell_type": "markdown",
   "metadata": {},
   "source": [
    "---\n",
    "## Section 6: Other Graphs <a id='other'></a>\n",
    "\n",
    "Now, let's use what we did for Sweden to draw graphs for everything else!"
   ]
  },
  {
   "cell_type": "code",
   "execution_count": 30,
   "metadata": {
    "collapsed": true
   },
   "outputs": [],
   "source": [
    "England_Wales = pd.read_csv('data/England_Wales.csv',  thousands=',')\n",
    "Chile = pd.read_csv('data/Chile.csv',  thousands=',')\n",
    "Russia = pd.read_csv('data/Russia.csv',  thousands=',')\n",
    "Mauritius = pd.read_csv('data/Mauritius.csv', thousands=',')"
   ]
  },
  {
   "cell_type": "markdown",
   "metadata": {},
   "source": [
    "First, we check how our data roughly looks like!"
   ]
  },
  {
   "cell_type": "code",
   "execution_count": 31,
   "metadata": {
    "scrolled": true
   },
   "outputs": [
    {
     "data": {
      "text/html": [
       "<div>\n",
       "<style scoped>\n",
       "    .dataframe tbody tr th:only-of-type {\n",
       "        vertical-align: middle;\n",
       "    }\n",
       "\n",
       "    .dataframe tbody tr th {\n",
       "        vertical-align: top;\n",
       "    }\n",
       "\n",
       "    .dataframe thead th {\n",
       "        text-align: right;\n",
       "    }\n",
       "</style>\n",
       "<table border=\"1\" class=\"dataframe\">\n",
       "  <thead>\n",
       "    <tr style=\"text-align: right;\">\n",
       "      <th></th>\n",
       "      <th>Year</th>\n",
       "      <th>Population</th>\n",
       "      <th>LiveBirths</th>\n",
       "      <th>Deaths</th>\n",
       "    </tr>\n",
       "  </thead>\n",
       "  <tbody>\n",
       "    <tr>\n",
       "      <th>0</th>\n",
       "      <td>1850</td>\n",
       "      <td>1294</td>\n",
       "      <td>41.3</td>\n",
       "      <td>18.8</td>\n",
       "    </tr>\n",
       "    <tr>\n",
       "      <th>1</th>\n",
       "      <td>1851</td>\n",
       "      <td>1326</td>\n",
       "      <td>38.5</td>\n",
       "      <td>20.5</td>\n",
       "    </tr>\n",
       "    <tr>\n",
       "      <th>2</th>\n",
       "      <td>1852</td>\n",
       "      <td>1358</td>\n",
       "      <td>40.9</td>\n",
       "      <td>19.5</td>\n",
       "    </tr>\n",
       "    <tr>\n",
       "      <th>3</th>\n",
       "      <td>1853</td>\n",
       "      <td>1391</td>\n",
       "      <td>44.7</td>\n",
       "      <td>22.9</td>\n",
       "    </tr>\n",
       "    <tr>\n",
       "      <th>4</th>\n",
       "      <td>1854</td>\n",
       "      <td>1423</td>\n",
       "      <td>43.3</td>\n",
       "      <td>21.7</td>\n",
       "    </tr>\n",
       "  </tbody>\n",
       "</table>\n",
       "</div>"
      ],
      "text/plain": [
       "   Year\\r  Population\\r  LiveBirths\\r  Deaths\n",
       "0    1850          1294          41.3    18.8\n",
       "1    1851          1326          38.5    20.5\n",
       "2    1852          1358          40.9    19.5\n",
       "3    1853          1391          44.7    22.9\n",
       "4    1854          1423          43.3    21.7"
      ]
     },
     "execution_count": 31,
     "metadata": {},
     "output_type": "execute_result"
    }
   ],
   "source": [
    "Chile.head()"
   ]
  },
  {
   "cell_type": "markdown",
   "metadata": {},
   "source": [
    "We are also working with **real** data here. This implies that a lot of the data we have are going to, unfortunately, be a little dirty, so we need to go through the process of finding out everything. For example, we had to separate everything by the thousands, or else, the program recognized it as a string!\n",
    "\n",
    "Another issue that we face is that the column names may not necessarily be clean. Guess what - we have a method to find out what the column names are exactly encoded as!"
   ]
  },
  {
   "cell_type": "code",
   "execution_count": 32,
   "metadata": {},
   "outputs": [
    {
     "data": {
      "text/plain": [
       "['Year\\r', 'Population\\r', 'LiveBirths\\r', 'Deaths']"
      ]
     },
     "execution_count": 32,
     "metadata": {},
     "output_type": "execute_result"
    }
   ],
   "source": [
    "Chile.columns.tolist()"
   ]
  },
  {
   "cell_type": "markdown",
   "metadata": {},
   "source": [
    "Now, let's go through our process of finding the x and y-axis values, and also make them a little more descriptive this time!"
   ]
  },
  {
   "cell_type": "code",
   "execution_count": 33,
   "metadata": {
    "collapsed": true
   },
   "outputs": [],
   "source": [
    "year = Chile['Year\\r'].astype(int)\n",
    "pop = Chile['Population\\r'].astype(int)\n",
    "birth_per_pop = 1000 * Chile['LiveBirths\\r'] / pop\n",
    "death_per_pop = 1000 * Chile['Deaths'] / pop"
   ]
  },
  {
   "cell_type": "code",
   "execution_count": 34,
   "metadata": {},
   "outputs": [
    {
     "data": {
      "image/png": "[encoded data removed]",
      "text/plain": [
       "<Figure size 432x288 with 1 Axes>"
      ]
     },
     "metadata": {},
     "output_type": "display_data"
    }
   ],
   "source": [
    "# Go bears for gold and blue!\n",
    "plt.plot(year, birth_per_pop, color='gold')\n",
    "plt.plot(year, death_per_pop, color='blue')\n",
    "plt.xlabel('Year')\n",
    "plt.ylabel('Birth/Death Rate')\n",
    "plt.title('Birth/Death Rate of Chile by Year')\n",
    "plt.grid(True)\n",
    "\n",
    "plt.show()"
   ]
  },
  {
   "cell_type": "markdown",
   "metadata": {},
   "source": [
    "---\n",
    "### Exercise: \n",
    "Let's now do the same for all the other countries: Russia and Mauritius"
   ]
  },
  {
   "cell_type": "code",
   "execution_count": 35,
   "metadata": {},
   "outputs": [
    {
     "data": {
      "text/plain": [
       "['Year\\r', '\\rPopulation\\r', 'LiveBirths', 'Deaths\\r']"
      ]
     },
     "execution_count": 35,
     "metadata": {},
     "output_type": "execute_result"
    }
   ],
   "source": [
    "Russia = Russia.dropna()\n",
    "Russia.columns.tolist()"
   ]
  },
  {
   "cell_type": "code",
   "execution_count": 36,
   "metadata": {
    "collapsed": true
   },
   "outputs": [],
   "source": [
    "year = Russia['Year\\r'].astype(int)\n",
    "pop = Russia['\\rPopulation\\r'].astype(int)\n",
    "birth_per_pop = 100 * Russia['LiveBirths'] / pop\n",
    "death_per_pop = 100 * Russia['Deaths\\r'] / pop"
   ]
  },
  {
   "cell_type": "code",
   "execution_count": 37,
   "metadata": {},
   "outputs": [
    {
     "data": {
      "image/png": "[encoded data removed]",
      "text/plain": [
       "<Figure size 432x288 with 1 Axes>"
      ]
     },
     "metadata": {},
     "output_type": "display_data"
    }
   ],
   "source": [
    "plt.plot(year, birth_per_pop, color='gold')\n",
    "plt.plot(year, death_per_pop, color='blue')\n",
    "plt.xlabel('Year')\n",
    "plt.ylabel('Birth/Death Rate')\n",
    "plt.title('Birth/Death Rate of Russia by Year')\n",
    "plt.grid(True)\n",
    "\n",
    "plt.show()"
   ]
  },
  {
   "cell_type": "markdown",
   "metadata": {},
   "source": [
    "### Mauritius Data"
   ]
  },
  {
   "cell_type": "code",
   "execution_count": 38,
   "metadata": {
    "collapsed": true
   },
   "outputs": [],
   "source": [
    "Mauritius = Mauritius.dropna()"
   ]
  },
  {
   "cell_type": "code",
   "execution_count": 39,
   "metadata": {
    "collapsed": true
   },
   "outputs": [],
   "source": [
    "year = Mauritius['Year\\r'].astype(int)\n",
    "pop = Mauritius['Population\\r'].astype(int)\n",
    "birth_per_pop = 1000 * Mauritius['LiveBirths\\r'].astype(float) / pop\n",
    "death_per_pop = 1000 * Mauritius['Deaths\\r'].astype(float) / pop"
   ]
  },
  {
   "cell_type": "code",
   "execution_count": 40,
   "metadata": {
    "scrolled": true
   },
   "outputs": [
    {
     "data": {
      "image/png": "[encoded data removed]",
      "text/plain": [
       "<Figure size 432x288 with 1 Axes>"
      ]
     },
     "metadata": {},
     "output_type": "display_data"
    }
   ],
   "source": [
    "plt.plot(year, birth_per_pop, color='gold')\n",
    "plt.plot(year, death_per_pop, color='blue')\n",
    "plt.xlabel('Year')\n",
    "plt.ylabel('Birth/Death Rate')\n",
    "plt.title('Birth/Death Rate of Mauritius by Year')\n",
    "plt.grid(True)\n",
    "\n",
    "plt.show()"
   ]
  },
  {
   "cell_type": "markdown",
   "metadata": {
    "collapsed": true
   },
   "source": [
    "### [Advanced] England and Wales Data"
   ]
  },
  {
   "cell_type": "markdown",
   "metadata": {},
   "source": [
    "This is very interesting because we are now going to work with **merging** datasets together, which is a truly powerful technique when we work with large datasets! \n",
    "\n",
    "First, as usual, let's import our datasets!"
   ]
  },
  {
   "cell_type": "code",
   "execution_count": 41,
   "metadata": {
    "collapsed": true
   },
   "outputs": [],
   "source": [
    "EW_Year = pd.read_csv('data/england_wales_year.csv',  thousands=',')\n",
    "EW_Rates =  pd.read_csv('data/england_wales_rates.csv',  thousands=',')"
   ]
  },
  {
   "cell_type": "markdown",
   "metadata": {},
   "source": [
    "Let's have a look at what each data entails. "
   ]
  },
  {
   "cell_type": "code",
   "execution_count": 42,
   "metadata": {},
   "outputs": [
    {
     "data": {
      "text/html": [
       "<div>\n",
       "<style scoped>\n",
       "    .dataframe tbody tr th:only-of-type {\n",
       "        vertical-align: middle;\n",
       "    }\n",
       "\n",
       "    .dataframe tbody tr th {\n",
       "        vertical-align: top;\n",
       "    }\n",
       "\n",
       "    .dataframe thead th {\n",
       "        text-align: right;\n",
       "    }\n",
       "</style>\n",
       "<table border=\"1\" class=\"dataframe\">\n",
       "  <thead>\n",
       "    <tr style=\"text-align: right;\">\n",
       "      <th></th>\n",
       "      <th>Year</th>\n",
       "      <th>UK</th>\n",
       "    </tr>\n",
       "  </thead>\n",
       "  <tbody>\n",
       "    <tr>\n",
       "      <th>0</th>\n",
       "      <td>1750</td>\n",
       "      <td>5.74</td>\n",
       "    </tr>\n",
       "    <tr>\n",
       "      <th>1</th>\n",
       "      <td>1751</td>\n",
       "      <td>5.77</td>\n",
       "    </tr>\n",
       "    <tr>\n",
       "      <th>2</th>\n",
       "      <td>1752</td>\n",
       "      <td>5.81</td>\n",
       "    </tr>\n",
       "    <tr>\n",
       "      <th>3</th>\n",
       "      <td>1753</td>\n",
       "      <td>5.86</td>\n",
       "    </tr>\n",
       "    <tr>\n",
       "      <th>4</th>\n",
       "      <td>1754</td>\n",
       "      <td>5.90</td>\n",
       "    </tr>\n",
       "    <tr>\n",
       "      <th>5</th>\n",
       "      <td>1755</td>\n",
       "      <td>5.94</td>\n",
       "    </tr>\n",
       "    <tr>\n",
       "      <th>6</th>\n",
       "      <td>1756</td>\n",
       "      <td>5.99</td>\n",
       "    </tr>\n",
       "    <tr>\n",
       "      <th>7</th>\n",
       "      <td>1757</td>\n",
       "      <td>6.02</td>\n",
       "    </tr>\n",
       "    <tr>\n",
       "      <th>8</th>\n",
       "      <td>1758</td>\n",
       "      <td>6.04</td>\n",
       "    </tr>\n",
       "    <tr>\n",
       "      <th>9</th>\n",
       "      <td>1759</td>\n",
       "      <td>6.06</td>\n",
       "    </tr>\n",
       "    <tr>\n",
       "      <th>10</th>\n",
       "      <td>1760</td>\n",
       "      <td>6.10</td>\n",
       "    </tr>\n",
       "    <tr>\n",
       "      <th>11</th>\n",
       "      <td>1761</td>\n",
       "      <td>6.15</td>\n",
       "    </tr>\n",
       "    <tr>\n",
       "      <th>12</th>\n",
       "      <td>1762</td>\n",
       "      <td>6.17</td>\n",
       "    </tr>\n",
       "    <tr>\n",
       "      <th>13</th>\n",
       "      <td>1763</td>\n",
       "      <td>6.16</td>\n",
       "    </tr>\n",
       "    <tr>\n",
       "      <th>14</th>\n",
       "      <td>1764</td>\n",
       "      <td>6.19</td>\n",
       "    </tr>\n",
       "    <tr>\n",
       "      <th>15</th>\n",
       "      <td>1765</td>\n",
       "      <td>6.25</td>\n",
       "    </tr>\n",
       "    <tr>\n",
       "      <th>16</th>\n",
       "      <td>1766</td>\n",
       "      <td>6.28</td>\n",
       "    </tr>\n",
       "    <tr>\n",
       "      <th>17</th>\n",
       "      <td>1767</td>\n",
       "      <td>6.29</td>\n",
       "    </tr>\n",
       "    <tr>\n",
       "      <th>18</th>\n",
       "      <td>1768</td>\n",
       "      <td>6.31</td>\n",
       "    </tr>\n",
       "    <tr>\n",
       "      <th>19</th>\n",
       "      <td>1769</td>\n",
       "      <td>6.36</td>\n",
       "    </tr>\n",
       "    <tr>\n",
       "      <th>20</th>\n",
       "      <td>1770</td>\n",
       "      <td>6.41</td>\n",
       "    </tr>\n",
       "    <tr>\n",
       "      <th>21</th>\n",
       "      <td>1771</td>\n",
       "      <td>6.45</td>\n",
       "    </tr>\n",
       "    <tr>\n",
       "      <th>22</th>\n",
       "      <td>1772</td>\n",
       "      <td>6.50</td>\n",
       "    </tr>\n",
       "    <tr>\n",
       "      <th>23</th>\n",
       "      <td>1773</td>\n",
       "      <td>6.55</td>\n",
       "    </tr>\n",
       "    <tr>\n",
       "      <th>24</th>\n",
       "      <td>1774</td>\n",
       "      <td>6.60</td>\n",
       "    </tr>\n",
       "    <tr>\n",
       "      <th>25</th>\n",
       "      <td>1775</td>\n",
       "      <td>6.67</td>\n",
       "    </tr>\n",
       "    <tr>\n",
       "      <th>26</th>\n",
       "      <td>1776</td>\n",
       "      <td>6.74</td>\n",
       "    </tr>\n",
       "    <tr>\n",
       "      <th>27</th>\n",
       "      <td>1777</td>\n",
       "      <td>6.81</td>\n",
       "    </tr>\n",
       "    <tr>\n",
       "      <th>28</th>\n",
       "      <td>1778</td>\n",
       "      <td>6.88</td>\n",
       "    </tr>\n",
       "    <tr>\n",
       "      <th>29</th>\n",
       "      <td>1779</td>\n",
       "      <td>6.95</td>\n",
       "    </tr>\n",
       "    <tr>\n",
       "      <th>...</th>\n",
       "      <td>...</td>\n",
       "      <td>...</td>\n",
       "    </tr>\n",
       "    <tr>\n",
       "      <th>225</th>\n",
       "      <td>1975</td>\n",
       "      <td>49.47</td>\n",
       "    </tr>\n",
       "    <tr>\n",
       "      <th>226</th>\n",
       "      <td>1976</td>\n",
       "      <td>49.46</td>\n",
       "    </tr>\n",
       "    <tr>\n",
       "      <th>227</th>\n",
       "      <td>1977</td>\n",
       "      <td>49.44</td>\n",
       "    </tr>\n",
       "    <tr>\n",
       "      <th>228</th>\n",
       "      <td>1978</td>\n",
       "      <td>49.44</td>\n",
       "    </tr>\n",
       "    <tr>\n",
       "      <th>229</th>\n",
       "      <td>1979</td>\n",
       "      <td>49.51</td>\n",
       "    </tr>\n",
       "    <tr>\n",
       "      <th>230</th>\n",
       "      <td>1980</td>\n",
       "      <td>49.60</td>\n",
       "    </tr>\n",
       "    <tr>\n",
       "      <th>231</th>\n",
       "      <td>1981</td>\n",
       "      <td>49.63</td>\n",
       "    </tr>\n",
       "    <tr>\n",
       "      <th>232</th>\n",
       "      <td>1982</td>\n",
       "      <td>49.60</td>\n",
       "    </tr>\n",
       "    <tr>\n",
       "      <th>233</th>\n",
       "      <td>1983</td>\n",
       "      <td>49.65</td>\n",
       "    </tr>\n",
       "    <tr>\n",
       "      <th>234</th>\n",
       "      <td>1984</td>\n",
       "      <td>49.76</td>\n",
       "    </tr>\n",
       "    <tr>\n",
       "      <th>235</th>\n",
       "      <td>1985</td>\n",
       "      <td>49.92</td>\n",
       "    </tr>\n",
       "    <tr>\n",
       "      <th>236</th>\n",
       "      <td>1986</td>\n",
       "      <td>50.07</td>\n",
       "    </tr>\n",
       "    <tr>\n",
       "      <th>237</th>\n",
       "      <td>1987</td>\n",
       "      <td>50.24</td>\n",
       "    </tr>\n",
       "    <tr>\n",
       "      <th>238</th>\n",
       "      <td>1988</td>\n",
       "      <td>50.39</td>\n",
       "    </tr>\n",
       "    <tr>\n",
       "      <th>239</th>\n",
       "      <td>1989</td>\n",
       "      <td>50.67</td>\n",
       "    </tr>\n",
       "    <tr>\n",
       "      <th>240</th>\n",
       "      <td>1990</td>\n",
       "      <td>50.87</td>\n",
       "    </tr>\n",
       "    <tr>\n",
       "      <th>241</th>\n",
       "      <td>1991</td>\n",
       "      <td>51.10</td>\n",
       "    </tr>\n",
       "    <tr>\n",
       "      <th>242</th>\n",
       "      <td>1992</td>\n",
       "      <td>51.28</td>\n",
       "    </tr>\n",
       "    <tr>\n",
       "      <th>243</th>\n",
       "      <td>1993</td>\n",
       "      <td>51.44</td>\n",
       "    </tr>\n",
       "    <tr>\n",
       "      <th>244</th>\n",
       "      <td>1994</td>\n",
       "      <td>51.39</td>\n",
       "    </tr>\n",
       "    <tr>\n",
       "      <th>245</th>\n",
       "      <td>1995</td>\n",
       "      <td>51.60</td>\n",
       "    </tr>\n",
       "    <tr>\n",
       "      <th>246</th>\n",
       "      <td>1996</td>\n",
       "      <td>51.80</td>\n",
       "    </tr>\n",
       "    <tr>\n",
       "      <th>247</th>\n",
       "      <td>1997</td>\n",
       "      <td>52.00</td>\n",
       "    </tr>\n",
       "    <tr>\n",
       "      <th>248</th>\n",
       "      <td>1998</td>\n",
       "      <td>52.23</td>\n",
       "    </tr>\n",
       "    <tr>\n",
       "      <th>249</th>\n",
       "      <td>1999</td>\n",
       "      <td>52.74</td>\n",
       "    </tr>\n",
       "    <tr>\n",
       "      <th>250</th>\n",
       "      <td>2000</td>\n",
       "      <td>52.10</td>\n",
       "    </tr>\n",
       "    <tr>\n",
       "      <th>251</th>\n",
       "      <td>2001</td>\n",
       "      <td>52.40</td>\n",
       "    </tr>\n",
       "    <tr>\n",
       "      <th>252</th>\n",
       "      <td>2002</td>\n",
       "      <td>52.60</td>\n",
       "    </tr>\n",
       "    <tr>\n",
       "      <th>253</th>\n",
       "      <td>2003</td>\n",
       "      <td>52.80</td>\n",
       "    </tr>\n",
       "    <tr>\n",
       "      <th>254</th>\n",
       "      <td>2004</td>\n",
       "      <td>53.00</td>\n",
       "    </tr>\n",
       "  </tbody>\n",
       "</table>\n",
       "<p>255 rows × 2 columns</p>\n",
       "</div>"
      ],
      "text/plain": [
       "     Year     UK\n",
       "0    1750   5.74\n",
       "1    1751   5.77\n",
       "2    1752   5.81\n",
       "3    1753   5.86\n",
       "4    1754   5.90\n",
       "5    1755   5.94\n",
       "6    1756   5.99\n",
       "7    1757   6.02\n",
       "8    1758   6.04\n",
       "9    1759   6.06\n",
       "10   1760   6.10\n",
       "11   1761   6.15\n",
       "12   1762   6.17\n",
       "13   1763   6.16\n",
       "14   1764   6.19\n",
       "15   1765   6.25\n",
       "16   1766   6.28\n",
       "17   1767   6.29\n",
       "18   1768   6.31\n",
       "19   1769   6.36\n",
       "20   1770   6.41\n",
       "21   1771   6.45\n",
       "22   1772   6.50\n",
       "23   1773   6.55\n",
       "24   1774   6.60\n",
       "25   1775   6.67\n",
       "26   1776   6.74\n",
       "27   1777   6.81\n",
       "28   1778   6.88\n",
       "29   1779   6.95\n",
       "..    ...    ...\n",
       "225  1975  49.47\n",
       "226  1976  49.46\n",
       "227  1977  49.44\n",
       "228  1978  49.44\n",
       "229  1979  49.51\n",
       "230  1980  49.60\n",
       "231  1981  49.63\n",
       "232  1982  49.60\n",
       "233  1983  49.65\n",
       "234  1984  49.76\n",
       "235  1985  49.92\n",
       "236  1986  50.07\n",
       "237  1987  50.24\n",
       "238  1988  50.39\n",
       "239  1989  50.67\n",
       "240  1990  50.87\n",
       "241  1991  51.10\n",
       "242  1992  51.28\n",
       "243  1993  51.44\n",
       "244  1994  51.39\n",
       "245  1995  51.60\n",
       "246  1996  51.80\n",
       "247  1997  52.00\n",
       "248  1998  52.23\n",
       "249  1999  52.74\n",
       "250  2000  52.10\n",
       "251  2001  52.40\n",
       "252  2002  52.60\n",
       "253  2003  52.80\n",
       "254  2004  53.00\n",
       "\n",
       "[255 rows x 2 columns]"
      ]
     },
     "execution_count": 42,
     "metadata": {},
     "output_type": "execute_result"
    }
   ],
   "source": [
    "EW_Year"
   ]
  },
  {
   "cell_type": "code",
   "execution_count": 43,
   "metadata": {},
   "outputs": [
    {
     "data": {
      "text/html": [
       "<div>\n",
       "<style scoped>\n",
       "    .dataframe tbody tr th:only-of-type {\n",
       "        vertical-align: middle;\n",
       "    }\n",
       "\n",
       "    .dataframe tbody tr th {\n",
       "        vertical-align: top;\n",
       "    }\n",
       "\n",
       "    .dataframe thead th {\n",
       "        text-align: right;\n",
       "    }\n",
       "</style>\n",
       "<table border=\"1\" class=\"dataframe\">\n",
       "  <thead>\n",
       "    <tr style=\"text-align: right;\">\n",
       "      <th></th>\n",
       "      <th>Entity</th>\n",
       "      <th>Year</th>\n",
       "      <th>DeathRate</th>\n",
       "      <th>BirthRate</th>\n",
       "    </tr>\n",
       "  </thead>\n",
       "  <tbody>\n",
       "    <tr>\n",
       "      <th>0</th>\n",
       "      <td>England and Wales</td>\n",
       "      <td>1541</td>\n",
       "      <td>29.41</td>\n",
       "      <td>39.84</td>\n",
       "    </tr>\n",
       "    <tr>\n",
       "      <th>1</th>\n",
       "      <td>England and Wales</td>\n",
       "      <td>1546</td>\n",
       "      <td>31.24</td>\n",
       "      <td>37.06</td>\n",
       "    </tr>\n",
       "    <tr>\n",
       "      <th>2</th>\n",
       "      <td>England and Wales</td>\n",
       "      <td>1551</td>\n",
       "      <td>26.03</td>\n",
       "      <td>38.75</td>\n",
       "    </tr>\n",
       "    <tr>\n",
       "      <th>3</th>\n",
       "      <td>England and Wales</td>\n",
       "      <td>1556</td>\n",
       "      <td>33.30</td>\n",
       "      <td>32.20</td>\n",
       "    </tr>\n",
       "    <tr>\n",
       "      <th>4</th>\n",
       "      <td>England and Wales</td>\n",
       "      <td>1561</td>\n",
       "      <td>32.90</td>\n",
       "      <td>34.68</td>\n",
       "    </tr>\n",
       "    <tr>\n",
       "      <th>5</th>\n",
       "      <td>England and Wales</td>\n",
       "      <td>1566</td>\n",
       "      <td>24.79</td>\n",
       "      <td>37.18</td>\n",
       "    </tr>\n",
       "    <tr>\n",
       "      <th>6</th>\n",
       "      <td>England and Wales</td>\n",
       "      <td>1571</td>\n",
       "      <td>24.40</td>\n",
       "      <td>32.83</td>\n",
       "    </tr>\n",
       "    <tr>\n",
       "      <th>7</th>\n",
       "      <td>England and Wales</td>\n",
       "      <td>1576</td>\n",
       "      <td>22.49</td>\n",
       "      <td>33.80</td>\n",
       "    </tr>\n",
       "    <tr>\n",
       "      <th>8</th>\n",
       "      <td>England and Wales</td>\n",
       "      <td>1581</td>\n",
       "      <td>21.82</td>\n",
       "      <td>34.34</td>\n",
       "    </tr>\n",
       "    <tr>\n",
       "      <th>9</th>\n",
       "      <td>England and Wales</td>\n",
       "      <td>1586</td>\n",
       "      <td>24.92</td>\n",
       "      <td>32.77</td>\n",
       "    </tr>\n",
       "    <tr>\n",
       "      <th>10</th>\n",
       "      <td>England and Wales</td>\n",
       "      <td>1591</td>\n",
       "      <td>26.85</td>\n",
       "      <td>32.61</td>\n",
       "    </tr>\n",
       "    <tr>\n",
       "      <th>11</th>\n",
       "      <td>England and Wales</td>\n",
       "      <td>1596</td>\n",
       "      <td>24.98</td>\n",
       "      <td>31.20</td>\n",
       "    </tr>\n",
       "    <tr>\n",
       "      <th>12</th>\n",
       "      <td>England and Wales</td>\n",
       "      <td>1601</td>\n",
       "      <td>24.60</td>\n",
       "      <td>33.61</td>\n",
       "    </tr>\n",
       "    <tr>\n",
       "      <th>13</th>\n",
       "      <td>England and Wales</td>\n",
       "      <td>1606</td>\n",
       "      <td>22.82</td>\n",
       "      <td>34.20</td>\n",
       "    </tr>\n",
       "    <tr>\n",
       "      <th>14</th>\n",
       "      <td>England and Wales</td>\n",
       "      <td>1611</td>\n",
       "      <td>26.09</td>\n",
       "      <td>32.30</td>\n",
       "    </tr>\n",
       "    <tr>\n",
       "      <th>15</th>\n",
       "      <td>England and Wales</td>\n",
       "      <td>1616</td>\n",
       "      <td>26.03</td>\n",
       "      <td>31.83</td>\n",
       "    </tr>\n",
       "    <tr>\n",
       "      <th>16</th>\n",
       "      <td>England and Wales</td>\n",
       "      <td>1621</td>\n",
       "      <td>23.50</td>\n",
       "      <td>32.68</td>\n",
       "    </tr>\n",
       "    <tr>\n",
       "      <th>17</th>\n",
       "      <td>England and Wales</td>\n",
       "      <td>1626</td>\n",
       "      <td>28.12</td>\n",
       "      <td>31.59</td>\n",
       "    </tr>\n",
       "    <tr>\n",
       "      <th>18</th>\n",
       "      <td>England and Wales</td>\n",
       "      <td>1631</td>\n",
       "      <td>24.10</td>\n",
       "      <td>31.78</td>\n",
       "    </tr>\n",
       "    <tr>\n",
       "      <th>19</th>\n",
       "      <td>England and Wales</td>\n",
       "      <td>1636</td>\n",
       "      <td>26.52</td>\n",
       "      <td>31.64</td>\n",
       "    </tr>\n",
       "    <tr>\n",
       "      <th>20</th>\n",
       "      <td>England and Wales</td>\n",
       "      <td>1641</td>\n",
       "      <td>28.61</td>\n",
       "      <td>32.42</td>\n",
       "    </tr>\n",
       "    <tr>\n",
       "      <th>21</th>\n",
       "      <td>England and Wales</td>\n",
       "      <td>1646</td>\n",
       "      <td>24.44</td>\n",
       "      <td>30.68</td>\n",
       "    </tr>\n",
       "    <tr>\n",
       "      <th>22</th>\n",
       "      <td>England and Wales</td>\n",
       "      <td>1651</td>\n",
       "      <td>24.64</td>\n",
       "      <td>26.79</td>\n",
       "    </tr>\n",
       "    <tr>\n",
       "      <th>23</th>\n",
       "      <td>England and Wales</td>\n",
       "      <td>1656</td>\n",
       "      <td>28.70</td>\n",
       "      <td>28.92</td>\n",
       "    </tr>\n",
       "    <tr>\n",
       "      <th>24</th>\n",
       "      <td>England and Wales</td>\n",
       "      <td>1661</td>\n",
       "      <td>26.30</td>\n",
       "      <td>26.78</td>\n",
       "    </tr>\n",
       "    <tr>\n",
       "      <th>25</th>\n",
       "      <td>England and Wales</td>\n",
       "      <td>1666</td>\n",
       "      <td>31.04</td>\n",
       "      <td>30.04</td>\n",
       "    </tr>\n",
       "    <tr>\n",
       "      <th>26</th>\n",
       "      <td>England and Wales</td>\n",
       "      <td>1671</td>\n",
       "      <td>29.69</td>\n",
       "      <td>29.66</td>\n",
       "    </tr>\n",
       "    <tr>\n",
       "      <th>27</th>\n",
       "      <td>England and Wales</td>\n",
       "      <td>1676</td>\n",
       "      <td>26.93</td>\n",
       "      <td>29.75</td>\n",
       "    </tr>\n",
       "    <tr>\n",
       "      <th>28</th>\n",
       "      <td>England and Wales</td>\n",
       "      <td>1681</td>\n",
       "      <td>35.44</td>\n",
       "      <td>30.13</td>\n",
       "    </tr>\n",
       "    <tr>\n",
       "      <th>29</th>\n",
       "      <td>England and Wales</td>\n",
       "      <td>1686</td>\n",
       "      <td>31.41</td>\n",
       "      <td>32.87</td>\n",
       "    </tr>\n",
       "    <tr>\n",
       "      <th>...</th>\n",
       "      <td>...</td>\n",
       "      <td>...</td>\n",
       "      <td>...</td>\n",
       "      <td>...</td>\n",
       "    </tr>\n",
       "    <tr>\n",
       "      <th>189</th>\n",
       "      <td>England and Wales</td>\n",
       "      <td>1986</td>\n",
       "      <td>11.60</td>\n",
       "      <td>13.20</td>\n",
       "    </tr>\n",
       "    <tr>\n",
       "      <th>190</th>\n",
       "      <td>England and Wales</td>\n",
       "      <td>1987</td>\n",
       "      <td>11.30</td>\n",
       "      <td>13.60</td>\n",
       "    </tr>\n",
       "    <tr>\n",
       "      <th>191</th>\n",
       "      <td>England and Wales</td>\n",
       "      <td>1988</td>\n",
       "      <td>11.30</td>\n",
       "      <td>13.80</td>\n",
       "    </tr>\n",
       "    <tr>\n",
       "      <th>192</th>\n",
       "      <td>England and Wales</td>\n",
       "      <td>1989</td>\n",
       "      <td>11.40</td>\n",
       "      <td>13.60</td>\n",
       "    </tr>\n",
       "    <tr>\n",
       "      <th>193</th>\n",
       "      <td>England and Wales</td>\n",
       "      <td>1990</td>\n",
       "      <td>11.10</td>\n",
       "      <td>13.90</td>\n",
       "    </tr>\n",
       "    <tr>\n",
       "      <th>194</th>\n",
       "      <td>England and Wales</td>\n",
       "      <td>1991</td>\n",
       "      <td>11.10</td>\n",
       "      <td>13.70</td>\n",
       "    </tr>\n",
       "    <tr>\n",
       "      <th>195</th>\n",
       "      <td>England and Wales</td>\n",
       "      <td>1992</td>\n",
       "      <td>10.80</td>\n",
       "      <td>13.40</td>\n",
       "    </tr>\n",
       "    <tr>\n",
       "      <th>196</th>\n",
       "      <td>England and Wales</td>\n",
       "      <td>1993</td>\n",
       "      <td>11.20</td>\n",
       "      <td>12.10</td>\n",
       "    </tr>\n",
       "    <tr>\n",
       "      <th>197</th>\n",
       "      <td>England and Wales</td>\n",
       "      <td>1994</td>\n",
       "      <td>11.40</td>\n",
       "      <td>12.80</td>\n",
       "    </tr>\n",
       "    <tr>\n",
       "      <th>198</th>\n",
       "      <td>England and Wales</td>\n",
       "      <td>1995</td>\n",
       "      <td>10.90</td>\n",
       "      <td>12.50</td>\n",
       "    </tr>\n",
       "    <tr>\n",
       "      <th>199</th>\n",
       "      <td>England and Wales</td>\n",
       "      <td>1996</td>\n",
       "      <td>10.90</td>\n",
       "      <td>12.50</td>\n",
       "    </tr>\n",
       "    <tr>\n",
       "      <th>200</th>\n",
       "      <td>England and Wales</td>\n",
       "      <td>1997</td>\n",
       "      <td>10.70</td>\n",
       "      <td>12.30</td>\n",
       "    </tr>\n",
       "    <tr>\n",
       "      <th>201</th>\n",
       "      <td>England and Wales</td>\n",
       "      <td>1998</td>\n",
       "      <td>10.60</td>\n",
       "      <td>12.30</td>\n",
       "    </tr>\n",
       "    <tr>\n",
       "      <th>202</th>\n",
       "      <td>England and Wales</td>\n",
       "      <td>1999</td>\n",
       "      <td>10.80</td>\n",
       "      <td>12.90</td>\n",
       "    </tr>\n",
       "    <tr>\n",
       "      <th>203</th>\n",
       "      <td>England and Wales</td>\n",
       "      <td>2000</td>\n",
       "      <td>10.30</td>\n",
       "      <td>11.60</td>\n",
       "    </tr>\n",
       "    <tr>\n",
       "      <th>204</th>\n",
       "      <td>England and Wales</td>\n",
       "      <td>2001</td>\n",
       "      <td>10.10</td>\n",
       "      <td>11.40</td>\n",
       "    </tr>\n",
       "    <tr>\n",
       "      <th>205</th>\n",
       "      <td>England and Wales</td>\n",
       "      <td>2002</td>\n",
       "      <td>10.20</td>\n",
       "      <td>11.30</td>\n",
       "    </tr>\n",
       "    <tr>\n",
       "      <th>206</th>\n",
       "      <td>England and Wales</td>\n",
       "      <td>2003</td>\n",
       "      <td>10.30</td>\n",
       "      <td>11.80</td>\n",
       "    </tr>\n",
       "    <tr>\n",
       "      <th>207</th>\n",
       "      <td>England and Wales</td>\n",
       "      <td>2004</td>\n",
       "      <td>9.70</td>\n",
       "      <td>12.00</td>\n",
       "    </tr>\n",
       "    <tr>\n",
       "      <th>208</th>\n",
       "      <td>England and Wales</td>\n",
       "      <td>2005</td>\n",
       "      <td>9.60</td>\n",
       "      <td>12.10</td>\n",
       "    </tr>\n",
       "    <tr>\n",
       "      <th>209</th>\n",
       "      <td>England and Wales</td>\n",
       "      <td>2006</td>\n",
       "      <td>9.30</td>\n",
       "      <td>12.40</td>\n",
       "    </tr>\n",
       "    <tr>\n",
       "      <th>210</th>\n",
       "      <td>England and Wales</td>\n",
       "      <td>2007</td>\n",
       "      <td>9.30</td>\n",
       "      <td>12.70</td>\n",
       "    </tr>\n",
       "    <tr>\n",
       "      <th>211</th>\n",
       "      <td>England and Wales</td>\n",
       "      <td>2008</td>\n",
       "      <td>9.30</td>\n",
       "      <td>12.90</td>\n",
       "    </tr>\n",
       "    <tr>\n",
       "      <th>212</th>\n",
       "      <td>England and Wales</td>\n",
       "      <td>2009</td>\n",
       "      <td>8.90</td>\n",
       "      <td>12.80</td>\n",
       "    </tr>\n",
       "    <tr>\n",
       "      <th>213</th>\n",
       "      <td>England and Wales</td>\n",
       "      <td>2010</td>\n",
       "      <td>8.90</td>\n",
       "      <td>13.00</td>\n",
       "    </tr>\n",
       "    <tr>\n",
       "      <th>214</th>\n",
       "      <td>England and Wales</td>\n",
       "      <td>2011</td>\n",
       "      <td>8.60</td>\n",
       "      <td>12.90</td>\n",
       "    </tr>\n",
       "    <tr>\n",
       "      <th>215</th>\n",
       "      <td>England and Wales</td>\n",
       "      <td>2012</td>\n",
       "      <td>8.80</td>\n",
       "      <td>12.90</td>\n",
       "    </tr>\n",
       "    <tr>\n",
       "      <th>216</th>\n",
       "      <td>England and Wales</td>\n",
       "      <td>2013</td>\n",
       "      <td>8.90</td>\n",
       "      <td>12.30</td>\n",
       "    </tr>\n",
       "    <tr>\n",
       "      <th>217</th>\n",
       "      <td>England and Wales</td>\n",
       "      <td>2014</td>\n",
       "      <td>8.70</td>\n",
       "      <td>12.10</td>\n",
       "    </tr>\n",
       "    <tr>\n",
       "      <th>218</th>\n",
       "      <td>England and Wales</td>\n",
       "      <td>2015</td>\n",
       "      <td>9.20</td>\n",
       "      <td>12.10</td>\n",
       "    </tr>\n",
       "  </tbody>\n",
       "</table>\n",
       "<p>219 rows × 4 columns</p>\n",
       "</div>"
      ],
      "text/plain": [
       "                Entity  Year  DeathRate  BirthRate\n",
       "0    England and Wales  1541      29.41      39.84\n",
       "1    England and Wales  1546      31.24      37.06\n",
       "2    England and Wales  1551      26.03      38.75\n",
       "3    England and Wales  1556      33.30      32.20\n",
       "4    England and Wales  1561      32.90      34.68\n",
       "5    England and Wales  1566      24.79      37.18\n",
       "6    England and Wales  1571      24.40      32.83\n",
       "7    England and Wales  1576      22.49      33.80\n",
       "8    England and Wales  1581      21.82      34.34\n",
       "9    England and Wales  1586      24.92      32.77\n",
       "10   England and Wales  1591      26.85      32.61\n",
       "11   England and Wales  1596      24.98      31.20\n",
       "12   England and Wales  1601      24.60      33.61\n",
       "13   England and Wales  1606      22.82      34.20\n",
       "14   England and Wales  1611      26.09      32.30\n",
       "15   England and Wales  1616      26.03      31.83\n",
       "16   England and Wales  1621      23.50      32.68\n",
       "17   England and Wales  1626      28.12      31.59\n",
       "18   England and Wales  1631      24.10      31.78\n",
       "19   England and Wales  1636      26.52      31.64\n",
       "20   England and Wales  1641      28.61      32.42\n",
       "21   England and Wales  1646      24.44      30.68\n",
       "22   England and Wales  1651      24.64      26.79\n",
       "23   England and Wales  1656      28.70      28.92\n",
       "24   England and Wales  1661      26.30      26.78\n",
       "25   England and Wales  1666      31.04      30.04\n",
       "26   England and Wales  1671      29.69      29.66\n",
       "27   England and Wales  1676      26.93      29.75\n",
       "28   England and Wales  1681      35.44      30.13\n",
       "29   England and Wales  1686      31.41      32.87\n",
       "..                 ...   ...        ...        ...\n",
       "189  England and Wales  1986      11.60      13.20\n",
       "190  England and Wales  1987      11.30      13.60\n",
       "191  England and Wales  1988      11.30      13.80\n",
       "192  England and Wales  1989      11.40      13.60\n",
       "193  England and Wales  1990      11.10      13.90\n",
       "194  England and Wales  1991      11.10      13.70\n",
       "195  England and Wales  1992      10.80      13.40\n",
       "196  England and Wales  1993      11.20      12.10\n",
       "197  England and Wales  1994      11.40      12.80\n",
       "198  England and Wales  1995      10.90      12.50\n",
       "199  England and Wales  1996      10.90      12.50\n",
       "200  England and Wales  1997      10.70      12.30\n",
       "201  England and Wales  1998      10.60      12.30\n",
       "202  England and Wales  1999      10.80      12.90\n",
       "203  England and Wales  2000      10.30      11.60\n",
       "204  England and Wales  2001      10.10      11.40\n",
       "205  England and Wales  2002      10.20      11.30\n",
       "206  England and Wales  2003      10.30      11.80\n",
       "207  England and Wales  2004       9.70      12.00\n",
       "208  England and Wales  2005       9.60      12.10\n",
       "209  England and Wales  2006       9.30      12.40\n",
       "210  England and Wales  2007       9.30      12.70\n",
       "211  England and Wales  2008       9.30      12.90\n",
       "212  England and Wales  2009       8.90      12.80\n",
       "213  England and Wales  2010       8.90      13.00\n",
       "214  England and Wales  2011       8.60      12.90\n",
       "215  England and Wales  2012       8.80      12.90\n",
       "216  England and Wales  2013       8.90      12.30\n",
       "217  England and Wales  2014       8.70      12.10\n",
       "218  England and Wales  2015       9.20      12.10\n",
       "\n",
       "[219 rows x 4 columns]"
      ]
     },
     "execution_count": 43,
     "metadata": {},
     "output_type": "execute_result"
    }
   ],
   "source": [
    "EW_Rates"
   ]
  },
  {
   "cell_type": "markdown",
   "metadata": {},
   "source": [
    "Uh-oh! Do you notice the issue here? The two datasets have different start and end dates! Yikes!\n",
    "\n",
    "To fix this, we are going to merge the two datasets together. Ultimately, this means we will end up with a smaller dataset than we would like, but we cannot reproduce the graph without the entirety of data. \n",
    "\n",
    "Let's now merge the two datasets together"
   ]
  },
  {
   "cell_type": "code",
   "execution_count": 44,
   "metadata": {},
   "outputs": [
    {
     "data": {
      "text/html": [
       "<div>\n",
       "<style scoped>\n",
       "    .dataframe tbody tr th:only-of-type {\n",
       "        vertical-align: middle;\n",
       "    }\n",
       "\n",
       "    .dataframe tbody tr th {\n",
       "        vertical-align: top;\n",
       "    }\n",
       "\n",
       "    .dataframe thead th {\n",
       "        text-align: right;\n",
       "    }\n",
       "</style>\n",
       "<table border=\"1\" class=\"dataframe\">\n",
       "  <thead>\n",
       "    <tr style=\"text-align: right;\">\n",
       "      <th></th>\n",
       "      <th>Year</th>\n",
       "      <th>UK</th>\n",
       "      <th>Entity</th>\n",
       "      <th>DeathRate</th>\n",
       "      <th>BirthRate</th>\n",
       "    </tr>\n",
       "  </thead>\n",
       "  <tbody>\n",
       "    <tr>\n",
       "      <th>0</th>\n",
       "      <td>1751</td>\n",
       "      <td>5.77</td>\n",
       "      <td>England and Wales</td>\n",
       "      <td>26.16</td>\n",
       "      <td>33.76</td>\n",
       "    </tr>\n",
       "    <tr>\n",
       "      <th>1</th>\n",
       "      <td>1756</td>\n",
       "      <td>5.99</td>\n",
       "      <td>England and Wales</td>\n",
       "      <td>25.90</td>\n",
       "      <td>32.82</td>\n",
       "    </tr>\n",
       "    <tr>\n",
       "      <th>2</th>\n",
       "      <td>1761</td>\n",
       "      <td>6.15</td>\n",
       "      <td>England and Wales</td>\n",
       "      <td>28.70</td>\n",
       "      <td>33.89</td>\n",
       "    </tr>\n",
       "    <tr>\n",
       "      <th>3</th>\n",
       "      <td>1766</td>\n",
       "      <td>6.28</td>\n",
       "      <td>England and Wales</td>\n",
       "      <td>28.07</td>\n",
       "      <td>34.28</td>\n",
       "    </tr>\n",
       "    <tr>\n",
       "      <th>4</th>\n",
       "      <td>1771</td>\n",
       "      <td>6.45</td>\n",
       "      <td>England and Wales</td>\n",
       "      <td>27.59</td>\n",
       "      <td>35.86</td>\n",
       "    </tr>\n",
       "    <tr>\n",
       "      <th>5</th>\n",
       "      <td>1776</td>\n",
       "      <td>6.74</td>\n",
       "      <td>England and Wales</td>\n",
       "      <td>25.48</td>\n",
       "      <td>36.28</td>\n",
       "    </tr>\n",
       "    <tr>\n",
       "      <th>6</th>\n",
       "      <td>1781</td>\n",
       "      <td>7.04</td>\n",
       "      <td>England and Wales</td>\n",
       "      <td>28.83</td>\n",
       "      <td>35.61</td>\n",
       "    </tr>\n",
       "    <tr>\n",
       "      <th>7</th>\n",
       "      <td>1786</td>\n",
       "      <td>7.29</td>\n",
       "      <td>England and Wales</td>\n",
       "      <td>27.04</td>\n",
       "      <td>37.57</td>\n",
       "    </tr>\n",
       "    <tr>\n",
       "      <th>8</th>\n",
       "      <td>1791</td>\n",
       "      <td>7.74</td>\n",
       "      <td>England and Wales</td>\n",
       "      <td>26.22</td>\n",
       "      <td>39.08</td>\n",
       "    </tr>\n",
       "    <tr>\n",
       "      <th>9</th>\n",
       "      <td>1796</td>\n",
       "      <td>8.20</td>\n",
       "      <td>England and Wales</td>\n",
       "      <td>26.66</td>\n",
       "      <td>38.74</td>\n",
       "    </tr>\n",
       "    <tr>\n",
       "      <th>10</th>\n",
       "      <td>1801</td>\n",
       "      <td>8.66</td>\n",
       "      <td>England and Wales</td>\n",
       "      <td>27.08</td>\n",
       "      <td>37.71</td>\n",
       "    </tr>\n",
       "    <tr>\n",
       "      <th>11</th>\n",
       "      <td>1806</td>\n",
       "      <td>9.66</td>\n",
       "      <td>England and Wales</td>\n",
       "      <td>24.70</td>\n",
       "      <td>40.51</td>\n",
       "    </tr>\n",
       "    <tr>\n",
       "      <th>12</th>\n",
       "      <td>1811</td>\n",
       "      <td>10.32</td>\n",
       "      <td>England and Wales</td>\n",
       "      <td>25.56</td>\n",
       "      <td>39.48</td>\n",
       "    </tr>\n",
       "    <tr>\n",
       "      <th>13</th>\n",
       "      <td>1816</td>\n",
       "      <td>11.20</td>\n",
       "      <td>England and Wales</td>\n",
       "      <td>25.53</td>\n",
       "      <td>41.92</td>\n",
       "    </tr>\n",
       "    <tr>\n",
       "      <th>14</th>\n",
       "      <td>1821</td>\n",
       "      <td>12.11</td>\n",
       "      <td>England and Wales</td>\n",
       "      <td>24.12</td>\n",
       "      <td>40.75</td>\n",
       "    </tr>\n",
       "    <tr>\n",
       "      <th>15</th>\n",
       "      <td>1826</td>\n",
       "      <td>13.70</td>\n",
       "      <td>England and Wales</td>\n",
       "      <td>23.40</td>\n",
       "      <td>38.91</td>\n",
       "    </tr>\n",
       "    <tr>\n",
       "      <th>16</th>\n",
       "      <td>1831</td>\n",
       "      <td>13.99</td>\n",
       "      <td>England and Wales</td>\n",
       "      <td>22.00</td>\n",
       "      <td>35.65</td>\n",
       "    </tr>\n",
       "    <tr>\n",
       "      <th>17</th>\n",
       "      <td>1836</td>\n",
       "      <td>14.93</td>\n",
       "      <td>England and Wales</td>\n",
       "      <td>22.31</td>\n",
       "      <td>35.58</td>\n",
       "    </tr>\n",
       "    <tr>\n",
       "      <th>18</th>\n",
       "      <td>1841</td>\n",
       "      <td>15.93</td>\n",
       "      <td>England and Wales</td>\n",
       "      <td>22.25</td>\n",
       "      <td>35.90</td>\n",
       "    </tr>\n",
       "    <tr>\n",
       "      <th>19</th>\n",
       "      <td>1846</td>\n",
       "      <td>16.94</td>\n",
       "      <td>England and Wales</td>\n",
       "      <td>22.95</td>\n",
       "      <td>34.92</td>\n",
       "    </tr>\n",
       "    <tr>\n",
       "      <th>20</th>\n",
       "      <td>1851</td>\n",
       "      <td>17.98</td>\n",
       "      <td>England and Wales</td>\n",
       "      <td>22.80</td>\n",
       "      <td>35.78</td>\n",
       "    </tr>\n",
       "    <tr>\n",
       "      <th>21</th>\n",
       "      <td>1856</td>\n",
       "      <td>19.04</td>\n",
       "      <td>England and Wales</td>\n",
       "      <td>22.40</td>\n",
       "      <td>35.91</td>\n",
       "    </tr>\n",
       "    <tr>\n",
       "      <th>22</th>\n",
       "      <td>1861</td>\n",
       "      <td>20.12</td>\n",
       "      <td>England and Wales</td>\n",
       "      <td>21.88</td>\n",
       "      <td>36.20</td>\n",
       "    </tr>\n",
       "    <tr>\n",
       "      <th>23</th>\n",
       "      <td>1862</td>\n",
       "      <td>20.37</td>\n",
       "      <td>England and Wales</td>\n",
       "      <td>21.40</td>\n",
       "      <td>35.00</td>\n",
       "    </tr>\n",
       "    <tr>\n",
       "      <th>24</th>\n",
       "      <td>1863</td>\n",
       "      <td>20.63</td>\n",
       "      <td>England and Wales</td>\n",
       "      <td>23.00</td>\n",
       "      <td>35.30</td>\n",
       "    </tr>\n",
       "    <tr>\n",
       "      <th>25</th>\n",
       "      <td>1864</td>\n",
       "      <td>20.88</td>\n",
       "      <td>England and Wales</td>\n",
       "      <td>23.70</td>\n",
       "      <td>35.40</td>\n",
       "    </tr>\n",
       "    <tr>\n",
       "      <th>26</th>\n",
       "      <td>1865</td>\n",
       "      <td>21.14</td>\n",
       "      <td>England and Wales</td>\n",
       "      <td>23.20</td>\n",
       "      <td>35.40</td>\n",
       "    </tr>\n",
       "    <tr>\n",
       "      <th>27</th>\n",
       "      <td>1866</td>\n",
       "      <td>21.41</td>\n",
       "      <td>England and Wales</td>\n",
       "      <td>23.40</td>\n",
       "      <td>35.20</td>\n",
       "    </tr>\n",
       "    <tr>\n",
       "      <th>28</th>\n",
       "      <td>1867</td>\n",
       "      <td>21.67</td>\n",
       "      <td>England and Wales</td>\n",
       "      <td>21.70</td>\n",
       "      <td>35.40</td>\n",
       "    </tr>\n",
       "    <tr>\n",
       "      <th>29</th>\n",
       "      <td>1868</td>\n",
       "      <td>21.95</td>\n",
       "      <td>England and Wales</td>\n",
       "      <td>21.80</td>\n",
       "      <td>35.80</td>\n",
       "    </tr>\n",
       "    <tr>\n",
       "      <th>...</th>\n",
       "      <td>...</td>\n",
       "      <td>...</td>\n",
       "      <td>...</td>\n",
       "      <td>...</td>\n",
       "      <td>...</td>\n",
       "    </tr>\n",
       "    <tr>\n",
       "      <th>136</th>\n",
       "      <td>1975</td>\n",
       "      <td>49.47</td>\n",
       "      <td>England and Wales</td>\n",
       "      <td>11.70</td>\n",
       "      <td>12.20</td>\n",
       "    </tr>\n",
       "    <tr>\n",
       "      <th>137</th>\n",
       "      <td>1976</td>\n",
       "      <td>49.46</td>\n",
       "      <td>England and Wales</td>\n",
       "      <td>12.10</td>\n",
       "      <td>11.80</td>\n",
       "    </tr>\n",
       "    <tr>\n",
       "      <th>138</th>\n",
       "      <td>1977</td>\n",
       "      <td>49.44</td>\n",
       "      <td>England and Wales</td>\n",
       "      <td>11.60</td>\n",
       "      <td>11.50</td>\n",
       "    </tr>\n",
       "    <tr>\n",
       "      <th>139</th>\n",
       "      <td>1978</td>\n",
       "      <td>49.44</td>\n",
       "      <td>England and Wales</td>\n",
       "      <td>11.90</td>\n",
       "      <td>12.10</td>\n",
       "    </tr>\n",
       "    <tr>\n",
       "      <th>140</th>\n",
       "      <td>1979</td>\n",
       "      <td>49.51</td>\n",
       "      <td>England and Wales</td>\n",
       "      <td>12.00</td>\n",
       "      <td>12.90</td>\n",
       "    </tr>\n",
       "    <tr>\n",
       "      <th>141</th>\n",
       "      <td>1980</td>\n",
       "      <td>49.60</td>\n",
       "      <td>England and Wales</td>\n",
       "      <td>11.70</td>\n",
       "      <td>13.20</td>\n",
       "    </tr>\n",
       "    <tr>\n",
       "      <th>142</th>\n",
       "      <td>1981</td>\n",
       "      <td>49.63</td>\n",
       "      <td>England and Wales</td>\n",
       "      <td>11.60</td>\n",
       "      <td>12.80</td>\n",
       "    </tr>\n",
       "    <tr>\n",
       "      <th>143</th>\n",
       "      <td>1982</td>\n",
       "      <td>49.60</td>\n",
       "      <td>England and Wales</td>\n",
       "      <td>11.70</td>\n",
       "      <td>12.60</td>\n",
       "    </tr>\n",
       "    <tr>\n",
       "      <th>144</th>\n",
       "      <td>1983</td>\n",
       "      <td>49.65</td>\n",
       "      <td>England and Wales</td>\n",
       "      <td>11.70</td>\n",
       "      <td>12.70</td>\n",
       "    </tr>\n",
       "    <tr>\n",
       "      <th>145</th>\n",
       "      <td>1984</td>\n",
       "      <td>49.76</td>\n",
       "      <td>England and Wales</td>\n",
       "      <td>11.40</td>\n",
       "      <td>12.80</td>\n",
       "    </tr>\n",
       "    <tr>\n",
       "      <th>146</th>\n",
       "      <td>1985</td>\n",
       "      <td>49.92</td>\n",
       "      <td>England and Wales</td>\n",
       "      <td>11.80</td>\n",
       "      <td>13.10</td>\n",
       "    </tr>\n",
       "    <tr>\n",
       "      <th>147</th>\n",
       "      <td>1986</td>\n",
       "      <td>50.07</td>\n",
       "      <td>England and Wales</td>\n",
       "      <td>11.60</td>\n",
       "      <td>13.20</td>\n",
       "    </tr>\n",
       "    <tr>\n",
       "      <th>148</th>\n",
       "      <td>1987</td>\n",
       "      <td>50.24</td>\n",
       "      <td>England and Wales</td>\n",
       "      <td>11.30</td>\n",
       "      <td>13.60</td>\n",
       "    </tr>\n",
       "    <tr>\n",
       "      <th>149</th>\n",
       "      <td>1988</td>\n",
       "      <td>50.39</td>\n",
       "      <td>England and Wales</td>\n",
       "      <td>11.30</td>\n",
       "      <td>13.80</td>\n",
       "    </tr>\n",
       "    <tr>\n",
       "      <th>150</th>\n",
       "      <td>1989</td>\n",
       "      <td>50.67</td>\n",
       "      <td>England and Wales</td>\n",
       "      <td>11.40</td>\n",
       "      <td>13.60</td>\n",
       "    </tr>\n",
       "    <tr>\n",
       "      <th>151</th>\n",
       "      <td>1990</td>\n",
       "      <td>50.87</td>\n",
       "      <td>England and Wales</td>\n",
       "      <td>11.10</td>\n",
       "      <td>13.90</td>\n",
       "    </tr>\n",
       "    <tr>\n",
       "      <th>152</th>\n",
       "      <td>1991</td>\n",
       "      <td>51.10</td>\n",
       "      <td>England and Wales</td>\n",
       "      <td>11.10</td>\n",
       "      <td>13.70</td>\n",
       "    </tr>\n",
       "    <tr>\n",
       "      <th>153</th>\n",
       "      <td>1992</td>\n",
       "      <td>51.28</td>\n",
       "      <td>England and Wales</td>\n",
       "      <td>10.80</td>\n",
       "      <td>13.40</td>\n",
       "    </tr>\n",
       "    <tr>\n",
       "      <th>154</th>\n",
       "      <td>1993</td>\n",
       "      <td>51.44</td>\n",
       "      <td>England and Wales</td>\n",
       "      <td>11.20</td>\n",
       "      <td>12.10</td>\n",
       "    </tr>\n",
       "    <tr>\n",
       "      <th>155</th>\n",
       "      <td>1994</td>\n",
       "      <td>51.39</td>\n",
       "      <td>England and Wales</td>\n",
       "      <td>11.40</td>\n",
       "      <td>12.80</td>\n",
       "    </tr>\n",
       "    <tr>\n",
       "      <th>156</th>\n",
       "      <td>1995</td>\n",
       "      <td>51.60</td>\n",
       "      <td>England and Wales</td>\n",
       "      <td>10.90</td>\n",
       "      <td>12.50</td>\n",
       "    </tr>\n",
       "    <tr>\n",
       "      <th>157</th>\n",
       "      <td>1996</td>\n",
       "      <td>51.80</td>\n",
       "      <td>England and Wales</td>\n",
       "      <td>10.90</td>\n",
       "      <td>12.50</td>\n",
       "    </tr>\n",
       "    <tr>\n",
       "      <th>158</th>\n",
       "      <td>1997</td>\n",
       "      <td>52.00</td>\n",
       "      <td>England and Wales</td>\n",
       "      <td>10.70</td>\n",
       "      <td>12.30</td>\n",
       "    </tr>\n",
       "    <tr>\n",
       "      <th>159</th>\n",
       "      <td>1998</td>\n",
       "      <td>52.23</td>\n",
       "      <td>England and Wales</td>\n",
       "      <td>10.60</td>\n",
       "      <td>12.30</td>\n",
       "    </tr>\n",
       "    <tr>\n",
       "      <th>160</th>\n",
       "      <td>1999</td>\n",
       "      <td>52.74</td>\n",
       "      <td>England and Wales</td>\n",
       "      <td>10.80</td>\n",
       "      <td>12.90</td>\n",
       "    </tr>\n",
       "    <tr>\n",
       "      <th>161</th>\n",
       "      <td>2000</td>\n",
       "      <td>52.10</td>\n",
       "      <td>England and Wales</td>\n",
       "      <td>10.30</td>\n",
       "      <td>11.60</td>\n",
       "    </tr>\n",
       "    <tr>\n",
       "      <th>162</th>\n",
       "      <td>2001</td>\n",
       "      <td>52.40</td>\n",
       "      <td>England and Wales</td>\n",
       "      <td>10.10</td>\n",
       "      <td>11.40</td>\n",
       "    </tr>\n",
       "    <tr>\n",
       "      <th>163</th>\n",
       "      <td>2002</td>\n",
       "      <td>52.60</td>\n",
       "      <td>England and Wales</td>\n",
       "      <td>10.20</td>\n",
       "      <td>11.30</td>\n",
       "    </tr>\n",
       "    <tr>\n",
       "      <th>164</th>\n",
       "      <td>2003</td>\n",
       "      <td>52.80</td>\n",
       "      <td>England and Wales</td>\n",
       "      <td>10.30</td>\n",
       "      <td>11.80</td>\n",
       "    </tr>\n",
       "    <tr>\n",
       "      <th>165</th>\n",
       "      <td>2004</td>\n",
       "      <td>53.00</td>\n",
       "      <td>England and Wales</td>\n",
       "      <td>9.70</td>\n",
       "      <td>12.00</td>\n",
       "    </tr>\n",
       "  </tbody>\n",
       "</table>\n",
       "<p>166 rows × 5 columns</p>\n",
       "</div>"
      ],
      "text/plain": [
       "     Year     UK             Entity  DeathRate  BirthRate\n",
       "0    1751   5.77  England and Wales      26.16      33.76\n",
       "1    1756   5.99  England and Wales      25.90      32.82\n",
       "2    1761   6.15  England and Wales      28.70      33.89\n",
       "3    1766   6.28  England and Wales      28.07      34.28\n",
       "4    1771   6.45  England and Wales      27.59      35.86\n",
       "5    1776   6.74  England and Wales      25.48      36.28\n",
       "6    1781   7.04  England and Wales      28.83      35.61\n",
       "7    1786   7.29  England and Wales      27.04      37.57\n",
       "8    1791   7.74  England and Wales      26.22      39.08\n",
       "9    1796   8.20  England and Wales      26.66      38.74\n",
       "10   1801   8.66  England and Wales      27.08      37.71\n",
       "11   1806   9.66  England and Wales      24.70      40.51\n",
       "12   1811  10.32  England and Wales      25.56      39.48\n",
       "13   1816  11.20  England and Wales      25.53      41.92\n",
       "14   1821  12.11  England and Wales      24.12      40.75\n",
       "15   1826  13.70  England and Wales      23.40      38.91\n",
       "16   1831  13.99  England and Wales      22.00      35.65\n",
       "17   1836  14.93  England and Wales      22.31      35.58\n",
       "18   1841  15.93  England and Wales      22.25      35.90\n",
       "19   1846  16.94  England and Wales      22.95      34.92\n",
       "20   1851  17.98  England and Wales      22.80      35.78\n",
       "21   1856  19.04  England and Wales      22.40      35.91\n",
       "22   1861  20.12  England and Wales      21.88      36.20\n",
       "23   1862  20.37  England and Wales      21.40      35.00\n",
       "24   1863  20.63  England and Wales      23.00      35.30\n",
       "25   1864  20.88  England and Wales      23.70      35.40\n",
       "26   1865  21.14  England and Wales      23.20      35.40\n",
       "27   1866  21.41  England and Wales      23.40      35.20\n",
       "28   1867  21.67  England and Wales      21.70      35.40\n",
       "29   1868  21.95  England and Wales      21.80      35.80\n",
       "..    ...    ...                ...        ...        ...\n",
       "136  1975  49.47  England and Wales      11.70      12.20\n",
       "137  1976  49.46  England and Wales      12.10      11.80\n",
       "138  1977  49.44  England and Wales      11.60      11.50\n",
       "139  1978  49.44  England and Wales      11.90      12.10\n",
       "140  1979  49.51  England and Wales      12.00      12.90\n",
       "141  1980  49.60  England and Wales      11.70      13.20\n",
       "142  1981  49.63  England and Wales      11.60      12.80\n",
       "143  1982  49.60  England and Wales      11.70      12.60\n",
       "144  1983  49.65  England and Wales      11.70      12.70\n",
       "145  1984  49.76  England and Wales      11.40      12.80\n",
       "146  1985  49.92  England and Wales      11.80      13.10\n",
       "147  1986  50.07  England and Wales      11.60      13.20\n",
       "148  1987  50.24  England and Wales      11.30      13.60\n",
       "149  1988  50.39  England and Wales      11.30      13.80\n",
       "150  1989  50.67  England and Wales      11.40      13.60\n",
       "151  1990  50.87  England and Wales      11.10      13.90\n",
       "152  1991  51.10  England and Wales      11.10      13.70\n",
       "153  1992  51.28  England and Wales      10.80      13.40\n",
       "154  1993  51.44  England and Wales      11.20      12.10\n",
       "155  1994  51.39  England and Wales      11.40      12.80\n",
       "156  1995  51.60  England and Wales      10.90      12.50\n",
       "157  1996  51.80  England and Wales      10.90      12.50\n",
       "158  1997  52.00  England and Wales      10.70      12.30\n",
       "159  1998  52.23  England and Wales      10.60      12.30\n",
       "160  1999  52.74  England and Wales      10.80      12.90\n",
       "161  2000  52.10  England and Wales      10.30      11.60\n",
       "162  2001  52.40  England and Wales      10.10      11.40\n",
       "163  2002  52.60  England and Wales      10.20      11.30\n",
       "164  2003  52.80  England and Wales      10.30      11.80\n",
       "165  2004  53.00  England and Wales       9.70      12.00\n",
       "\n",
       "[166 rows x 5 columns]"
      ]
     },
     "execution_count": 44,
     "metadata": {},
     "output_type": "execute_result"
    }
   ],
   "source": [
    "England_Wales = EW_Year.merge(EW_Rates, on='Year', how='inner')\n",
    "England_Wales"
   ]
  },
  {
   "cell_type": "markdown",
   "metadata": {},
   "source": [
    "Much better. Our dataset has reduced in size, but we have successfully converted the data into a form we can work with. Let's now use our previous skills to draw beautiful graphs for them. \n",
    "\n",
    "First, let's grab the column names. "
   ]
  },
  {
   "cell_type": "code",
   "execution_count": 45,
   "metadata": {},
   "outputs": [
    {
     "data": {
      "text/plain": [
       "['Year', 'UK', 'Entity', 'DeathRate', 'BirthRate']"
      ]
     },
     "execution_count": 45,
     "metadata": {},
     "output_type": "execute_result"
    }
   ],
   "source": [
    "England_Wales.columns.tolist()"
   ]
  },
  {
   "cell_type": "code",
   "execution_count": 46,
   "metadata": {
    "collapsed": true
   },
   "outputs": [],
   "source": [
    "x_axis = England_Wales['Year'].astype(int)\n",
    "y_axis = England_Wales['UK'].astype(int)\n",
    "y_new = England_Wales['BirthRate']\n",
    "y_new2 = England_Wales['DeathRate']"
   ]
  },
  {
   "cell_type": "code",
   "execution_count": 47,
   "metadata": {},
   "outputs": [
    {
     "data": {
      "image/png": "[encoded data removed]",
      "text/plain": [
       "<Figure size 432x288 with 1 Axes>"
      ]
     },
     "metadata": {},
     "output_type": "display_data"
    }
   ],
   "source": [
    "# Go bears for gold and blue!\n",
    "plt.plot(x_axis, y_new, color='gold')\n",
    "plt.plot(x_axis, y_new2, color='blue')\n",
    "plt.xlabel('Year')\n",
    "plt.ylabel('Birth/Death Rate')\n",
    "plt.title('Population of England/Wales by Year')\n",
    "plt.grid(True)\n",
    "\n",
    "plt.show()"
   ]
  },
  {
   "cell_type": "code",
   "execution_count": 51,
   "metadata": {},
   "outputs": [
    {
     "data": {
      "text/html": [
       "<div>\n",
       "<style scoped>\n",
       "    .dataframe tbody tr th:only-of-type {\n",
       "        vertical-align: middle;\n",
       "    }\n",
       "\n",
       "    .dataframe tbody tr th {\n",
       "        vertical-align: top;\n",
       "    }\n",
       "\n",
       "    .dataframe thead th {\n",
       "        text-align: right;\n",
       "    }\n",
       "</style>\n",
       "<table border=\"1\" class=\"dataframe\">\n",
       "  <thead>\n",
       "    <tr style=\"text-align: right;\">\n",
       "      <th></th>\n",
       "      <th>Year</th>\n",
       "      <th>UK</th>\n",
       "      <th>DeathRate</th>\n",
       "      <th>BirthRate</th>\n",
       "    </tr>\n",
       "  </thead>\n",
       "  <tbody>\n",
       "    <tr>\n",
       "      <th>count</th>\n",
       "      <td>166.000000</td>\n",
       "      <td>166.000000</td>\n",
       "      <td>166.000000</td>\n",
       "      <td>166.000000</td>\n",
       "    </tr>\n",
       "    <tr>\n",
       "      <th>mean</th>\n",
       "      <td>1915.403614</td>\n",
       "      <td>35.177771</td>\n",
       "      <td>15.953795</td>\n",
       "      <td>23.511506</td>\n",
       "    </tr>\n",
       "    <tr>\n",
       "      <th>std</th>\n",
       "      <td>59.723604</td>\n",
       "      <td>13.373240</td>\n",
       "      <td>5.240761</td>\n",
       "      <td>9.462507</td>\n",
       "    </tr>\n",
       "    <tr>\n",
       "      <th>min</th>\n",
       "      <td>1751.000000</td>\n",
       "      <td>5.770000</td>\n",
       "      <td>9.700000</td>\n",
       "      <td>11.300000</td>\n",
       "    </tr>\n",
       "    <tr>\n",
       "      <th>25%</th>\n",
       "      <td>1880.250000</td>\n",
       "      <td>25.865000</td>\n",
       "      <td>11.700000</td>\n",
       "      <td>15.025000</td>\n",
       "    </tr>\n",
       "    <tr>\n",
       "      <th>50%</th>\n",
       "      <td>1921.500000</td>\n",
       "      <td>38.065000</td>\n",
       "      <td>13.350000</td>\n",
       "      <td>19.450000</td>\n",
       "    </tr>\n",
       "    <tr>\n",
       "      <th>75%</th>\n",
       "      <td>1962.750000</td>\n",
       "      <td>46.892500</td>\n",
       "      <td>20.275000</td>\n",
       "      <td>33.790000</td>\n",
       "    </tr>\n",
       "    <tr>\n",
       "      <th>max</th>\n",
       "      <td>2004.000000</td>\n",
       "      <td>53.000000</td>\n",
       "      <td>28.830000</td>\n",
       "      <td>41.920000</td>\n",
       "    </tr>\n",
       "  </tbody>\n",
       "</table>\n",
       "</div>"
      ],
      "text/plain": [
       "              Year          UK   DeathRate   BirthRate\n",
       "count   166.000000  166.000000  166.000000  166.000000\n",
       "mean   1915.403614   35.177771   15.953795   23.511506\n",
       "std      59.723604   13.373240    5.240761    9.462507\n",
       "min    1751.000000    5.770000    9.700000   11.300000\n",
       "25%    1880.250000   25.865000   11.700000   15.025000\n",
       "50%    1921.500000   38.065000   13.350000   19.450000\n",
       "75%    1962.750000   46.892500   20.275000   33.790000\n",
       "max    2004.000000   53.000000   28.830000   41.920000"
      ]
     },
     "execution_count": 51,
     "metadata": {},
     "output_type": "execute_result"
    }
   ],
   "source": [
    "England_Wales.describe()"
   ]
  },
  {
   "cell_type": "code",
   "execution_count": 59,
   "metadata": {},
   "outputs": [
    {
     "data": {
      "text/plain": [
       "Year         1915.403614\n",
       "UK             35.177771\n",
       "DeathRate      15.953795\n",
       "BirthRate      23.511506\n",
       "dtype: float64"
      ]
     },
     "execution_count": 59,
     "metadata": {},
     "output_type": "execute_result"
    }
   ],
   "source": [
    "England_Wales.mean()"
   ]
  },
  {
   "cell_type": "code",
   "execution_count": 50,
   "metadata": {},
   "outputs": [
    {
     "data": {
      "text/plain": [
       "Year         59.723604\n",
       "UK           13.373240\n",
       "DeathRate     5.240761\n",
       "BirthRate     9.462507\n",
       "dtype: float64"
      ]
     },
     "execution_count": 50,
     "metadata": {},
     "output_type": "execute_result"
    }
   ],
   "source": [
    "England_Wales.std()"
   ]
  },
  {
   "cell_type": "code",
   "execution_count": 61,
   "metadata": {},
   "outputs": [
    {
     "data": {
      "text/plain": [
       "Year                      1816\n",
       "UK                        11.2\n",
       "Entity       England and Wales\n",
       "DeathRate                25.53\n",
       "BirthRate                41.92\n",
       "Name: 13, dtype: object"
      ]
     },
     "execution_count": 61,
     "metadata": {},
     "output_type": "execute_result"
    }
   ],
   "source": [
    "England_Wales.loc[England_Wales['BirthRate'].idxmax()]"
   ]
  },
  {
   "cell_type": "code",
   "execution_count": 60,
   "metadata": {},
   "outputs": [
    {
     "data": {
      "text/plain": [
       "Year                      2002\n",
       "UK                        52.6\n",
       "Entity       England and Wales\n",
       "DeathRate                 10.2\n",
       "BirthRate                 11.3\n",
       "Name: 163, dtype: object"
      ]
     },
     "execution_count": 60,
     "metadata": {},
     "output_type": "execute_result"
    }
   ],
   "source": [
    "England_Wales.loc[England_Wales['BirthRate'].idxmin()]"
   ]
  },
  {
   "cell_type": "markdown",
   "metadata": {},
   "source": [
    "---\n",
    "## 4. What's Next?"
   ]
  },
  {
   "cell_type": "markdown",
   "metadata": {
    "collapsed": true
   },
   "source": [
    "Please help us understand your views of this module with this short survey: https://docs.google.com/forms/d/1n5xb7YkesWmCS6X8xnTGQiCFjiU4nr4fnzNQHwm8Oz4/edit?usp=sharing \n",
    "\n",
    "Data science is a fast-growing field with applications in almost every subject you can imagine. Students and researchers alike have used Jupyter notebooks and data-driven methods to do everything from completing a lower-division class problem set to presenting a graduate research project. \n",
    "\n",
    "If you'd like to learn more about how to incorporate data science into your academic career:\n",
    "\n",
    "* [DATA-8](http://data8.org) is offered every semester and is a great introduction to coding and statistics. The website includes links to the textbook, syllibi, and past homeworks.\n",
    "* Data Science [Connector Courses](https://data.berkeley.edu/education/connectors) teach applied data science in everything from literature to cancer research. They can be taken with or after DATA-8.\n",
    "* The Berkeley Institute for Data Science ([BIDS](https://bids.berkeley.edu/)) hosts data science talks, research resources organized by field, and office hours for those interested in more in-depth data science research.\n",
    "* [DLAB](http://dlab.berkeley.edu/) also offers workshops and consulting to help you hone your skills."
   ]
  }
 ],
 "metadata": {
  "kernelspec": {
   "display_name": "Python 3",
   "language": "python",
   "name": "python3"
  },
  "language_info": {
   "codemirror_mode": {
    "name": "ipython",
    "version": 3
   },
   "file_extension": ".py",
   "mimetype": "text/x-python",
   "name": "python",
   "nbconvert_exporter": "python",
   "pygments_lexer": "ipython3",
   "version": "3.6.6"
  }
 },
 "nbformat": 4,
 "nbformat_minor": 2
}
